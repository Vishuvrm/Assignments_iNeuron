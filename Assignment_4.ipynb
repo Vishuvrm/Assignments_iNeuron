{
 "cells": [
  {
   "cell_type": "markdown",
   "metadata": {},
   "source": [
    "# Que1 What exactly is [] ?\n",
    "### Ans: It's an empty list"
   ]
  },
  {
   "cell_type": "markdown",
   "metadata": {},
   "source": [
    "# Que2: In a list of values stored in a variable called spam, how would you assign the value \"hello\" as the third value? (Assume [2, 4, 6, 8, 10] are in spam.)\n"
   ]
  },
  {
   "cell_type": "code",
   "execution_count": 1,
   "metadata": {},
   "outputs": [],
   "source": [
    "# assume the spam as:\n",
    "spam = [2,4,6,8,10]\n",
    "# To assign the value \"hello\" as the third value, we do:\n",
    "spam.insert(2, \"hello\")"
   ]
  },
  {
   "cell_type": "code",
   "execution_count": 2,
   "metadata": {},
   "outputs": [
    {
     "name": "stdout",
     "output_type": "stream",
     "text": [
      "[2, 4, 'hello', 6, 8, 10]\n"
     ]
    }
   ],
   "source": [
    "print(spam) # Thus, we inserted \"hello\" as the third value in the list spam."
   ]
  },
  {
   "cell_type": "markdown",
   "metadata": {},
   "source": [
    "# Let&#39;s pretend the spam includes the list [&#39;a&#39;, &#39;b&#39;, &#39;c&#39;, &#39;d&#39;] for the next three queries.\n",
    "\n",
    "# Que3: What is the value of spam[int(int(&#39;3&#39; * 2) / 11)]?\n",
    "\n",
    "### Ans: 'd'\n",
    "\n",
    "##### Below is the code:"
   ]
  },
  {
   "cell_type": "code",
   "execution_count": 3,
   "metadata": {},
   "outputs": [
    {
     "name": "stdout",
     "output_type": "stream",
     "text": [
      "d\n"
     ]
    }
   ],
   "source": [
    "spam = ['a','b','c','d']\n",
    "print(spam[int(int('3'*2)/11)])"
   ]
  },
  {
   "cell_type": "markdown",
   "metadata": {},
   "source": [
    "# Que4: What is the value of spam[-1]?\n",
    "### Ans: 'd'"
   ]
  },
  {
   "cell_type": "code",
   "execution_count": 4,
   "metadata": {},
   "outputs": [
    {
     "name": "stdout",
     "output_type": "stream",
     "text": [
      "d\n"
     ]
    }
   ],
   "source": [
    "print(spam[-1])"
   ]
  },
  {
   "cell_type": "markdown",
   "metadata": {},
   "source": [
    "# Que5: What is the value of spam[:2]?\n",
    "### Ans: ['a', 'b']"
   ]
  },
  {
   "cell_type": "code",
   "execution_count": 5,
   "metadata": {},
   "outputs": [
    {
     "data": {
      "text/plain": [
       "['a', 'b']"
      ]
     },
     "execution_count": 5,
     "metadata": {},
     "output_type": "execute_result"
    }
   ],
   "source": [
    "spam[:2]"
   ]
  },
  {
   "cell_type": "markdown",
   "metadata": {},
   "source": [
    "# Let&#39;s pretend bacon has the list [3.14, &#39;cat,&#39; 11, &#39;cat,&#39; True] for the next three questions.\n",
    "\n",
    "# Que6: What is the value of bacon.index(&#39;cat&#39;)?\n",
    "### Ans: 1"
   ]
  },
  {
   "cell_type": "code",
   "execution_count": 6,
   "metadata": {},
   "outputs": [],
   "source": [
    "bacon = [3.14, 'cat', 11, 'cat', True]"
   ]
  },
  {
   "cell_type": "code",
   "execution_count": 7,
   "metadata": {},
   "outputs": [
    {
     "data": {
      "text/plain": [
       "1"
      ]
     },
     "execution_count": 7,
     "metadata": {},
     "output_type": "execute_result"
    }
   ],
   "source": [
    "bacon.index('cat')"
   ]
  },
  {
   "cell_type": "markdown",
   "metadata": {},
   "source": [
    "# Que7: How does bacon.append(99) change the look of the list value in bacon?\n",
    "### Ans: bacon.append(99) will append the integer 99 at the end of the list bacon, thus bacon will become: [3.14, 'cat', 11, 'cat', True, 99]"
   ]
  },
  {
   "cell_type": "code",
   "execution_count": 8,
   "metadata": {},
   "outputs": [
    {
     "data": {
      "text/plain": [
       "[3.14, 'cat', 11, 'cat', True, 99]"
      ]
     },
     "execution_count": 8,
     "metadata": {},
     "output_type": "execute_result"
    }
   ],
   "source": [
    "bacon.append(99)\n",
    "bacon"
   ]
  },
  {
   "cell_type": "markdown",
   "metadata": {},
   "source": [
    "# Que8: How does bacon.remove(&#39;cat&#39;) change the look of the list meaning in bacon?\n",
    "### Ans: It will remove the first value of \"cat\" from the bacon list, hence the list will become: [3.14, 11, 'cat', True, 99]"
   ]
  },
  {
   "cell_type": "code",
   "execution_count": 9,
   "metadata": {},
   "outputs": [],
   "source": [
    "bacon.remove(\"cat\")"
   ]
  },
  {
   "cell_type": "code",
   "execution_count": 10,
   "metadata": {},
   "outputs": [
    {
     "data": {
      "text/plain": [
       "[3.14, 11, 'cat', True, 99]"
      ]
     },
     "execution_count": 10,
     "metadata": {},
     "output_type": "execute_result"
    }
   ],
   "source": [
    "bacon"
   ]
  },
  {
   "cell_type": "markdown",
   "metadata": {},
   "source": [
    "# Que9: What are the list concatenation and list replication operators?\n",
    "\n",
    "### Ans:\n",
    "#### The list concatination operators: +\n",
    "\n",
    "#### The list replication operators is: *\n"
   ]
  },
  {
   "cell_type": "code",
   "execution_count": 11,
   "metadata": {},
   "outputs": [],
   "source": [
    "# For example:\n",
    "lst1 = [1,2,3,4]\n",
    "lst2 = [5,6,7,8]"
   ]
  },
  {
   "cell_type": "code",
   "execution_count": 12,
   "metadata": {},
   "outputs": [
    {
     "data": {
      "text/plain": [
       "[1, 2, 3, 4, 5, 6, 7, 8]"
      ]
     },
     "execution_count": 12,
     "metadata": {},
     "output_type": "execute_result"
    }
   ],
   "source": [
    "# List concatenation:\n",
    "lst = lst1+lst2\n",
    "lst"
   ]
  },
  {
   "cell_type": "code",
   "execution_count": 13,
   "metadata": {},
   "outputs": [
    {
     "data": {
      "text/plain": [
       "[1, 2, 3, 4, 1, 2, 3, 4, 1, 2, 3, 4]"
      ]
     },
     "execution_count": 13,
     "metadata": {},
     "output_type": "execute_result"
    }
   ],
   "source": [
    "# List replication:\n",
    "lst_rep = lst1 * 3 # lst1 is replicated 3 times\n",
    "lst_rep"
   ]
  },
  {
   "cell_type": "markdown",
   "metadata": {},
   "source": [
    "# What is difference between the list methods append() and insert()?\n",
    "### Ans: \n",
    "### append method is used to append any value in the end of the list, while insert method is used to insert any value at any index in the list"
   ]
  },
  {
   "cell_type": "code",
   "execution_count": 14,
   "metadata": {},
   "outputs": [
    {
     "name": "stdout",
     "output_type": "stream",
     "text": [
      "[1, 2, 3, 4, 5]\n"
     ]
    }
   ],
   "source": [
    "# for example:\n",
    "lst = [1,2,3,4]\n",
    "# Say I want to append 5 to lst, then\n",
    "lst.append(5)\n",
    "\n",
    "#Now let's print lst\n",
    "print(lst)"
   ]
  },
  {
   "cell_type": "code",
   "execution_count": 15,
   "metadata": {},
   "outputs": [
    {
     "name": "stdout",
     "output_type": "stream",
     "text": [
      "[1, 2, 'cat', 3, 4]\n"
     ]
    }
   ],
   "source": [
    "lst = [1,2,3,4]\n",
    "# On the other hand, suppose I want to insert \"cat\" at 3rd position in\n",
    "# the list lst, then\n",
    "lst.insert(2,\"cat\")\n",
    "\n",
    "# Now, let's print lst\n",
    "print(lst)"
   ]
  },
  {
   "cell_type": "markdown",
   "metadata": {},
   "source": [
    "# Que11: What are the two methods for removing items from a list?\n",
    "\n",
    "### Ans: remove, pop and clear"
   ]
  },
  {
   "cell_type": "code",
   "execution_count": 16,
   "metadata": {},
   "outputs": [
    {
     "name": "stdout",
     "output_type": "stream",
     "text": [
      "lst before: [1, 2, 3, 4, 5]\n",
      "lst after removing 2: [1, 3, 4, 5]\n"
     ]
    }
   ],
   "source": [
    "# remove method: This will remove the 1st occurence of the item to be removed from the list\n",
    "lst = [1,2,3,4,5]\n",
    "\n",
    "print(\"lst before:\",lst)\n",
    "# Suppose I want to remove 2 from the list lst, then\n",
    "lst.remove(2)\n",
    "# This will remove the 1st value of 2 found from the left i.e. index 0\n",
    "print(\"lst after removing 2:\",lst)"
   ]
  },
  {
   "cell_type": "code",
   "execution_count": 17,
   "metadata": {},
   "outputs": [
    {
     "name": "stdout",
     "output_type": "stream",
     "text": [
      "lst before: [1, 2, 3, 4, 5]\n",
      "lst after clear: []\n"
     ]
    }
   ],
   "source": [
    "# clear method: This will all the items from the list.\n",
    "# For e.g.\n",
    "lst = [1,2,3,4,5]\n",
    "\n",
    "print(\"lst before:\",lst)\n",
    "lst.clear()\n",
    "\n",
    "print(\"lst after clear:\",lst)"
   ]
  },
  {
   "cell_type": "code",
   "execution_count": 18,
   "metadata": {},
   "outputs": [
    {
     "name": "stdout",
     "output_type": "stream",
     "text": [
      "lst before: [1, 2, 3, 4, 5]\n",
      "Popped value: 5\n",
      "lst after pop = [1, 2, 3, 4]\n"
     ]
    }
   ],
   "source": [
    "# pop method: This will remove the last item from the list and return the item removed\n",
    "# For e.g.\n",
    "lst = [1,2,3,4,5]\n",
    "print(\"lst before:\",lst)\n",
    "print(\"Popped value:\",lst.pop())\n",
    "print(\"lst after pop =\",lst)"
   ]
  },
  {
   "cell_type": "markdown",
   "metadata": {},
   "source": [
    "# Que12: Describe how list values and string values are identical.\n",
    "### Ans: List values and String values are identical in:\n",
    "<h3> 1. Concatenation<br><br>\n",
    "     2. Replication<br><br>\n",
    "     3. Indexing and slicing<br><br>\n",
    "     4. Finding the index of the elements using inbuilt methods like index method in list & string, and find method in string.<br><br>\n",
    "     5. Inbuilt method (count) which returns the count for the specific elements in list or string. <br>For e.g. \"hello\".count('l') returns 2 </h3>\n",
    "     \n",
    "* Let's explain the above points with examples\n",
    "     \n"
   ]
  },
  {
   "cell_type": "code",
   "execution_count": 19,
   "metadata": {},
   "outputs": [
    {
     "name": "stdout",
     "output_type": "stream",
     "text": [
      "Hello world\n",
      "[1, 2, 3, 4, 5, 6]\n"
     ]
    }
   ],
   "source": [
    "# 1. Concatenation\n",
    "\n",
    "# We can concatenate multiple lists together in the same way we concatenate\n",
    "# multiple strings:\n",
    "# For e.g.\n",
    "\n",
    "str1 = \"Hello\"\n",
    "str2 = \" world\"\n",
    "\n",
    "str_concat = str1 + str2\n",
    "print(str_concat)\n",
    "\n",
    "# Similary, we do concatenation for lists:\n",
    "lst1 = [1,2,3]\n",
    "lst2 = [4,5,6]\n",
    "lst_concat = lst1+lst2\n",
    "print(lst_concat)"
   ]
  },
  {
   "cell_type": "code",
   "execution_count": 20,
   "metadata": {},
   "outputs": [
    {
     "name": "stdout",
     "output_type": "stream",
     "text": [
      "Hello Hello Hello \n",
      "[1, 2, 3, 4, 5, 6]\n"
     ]
    }
   ],
   "source": [
    "# 2. Replication\n",
    "\n",
    "# We can replicate lists multiple times in the same way we replicate strings:\n",
    "# For e.g.\n",
    "\n",
    "str1 = \"Hello \"\n",
    "\n",
    "str_repl = str1 * 3\n",
    "print(str_repl)\n",
    "\n",
    "# Similary, we do replication for lists:\n",
    "lst1 = [1,2,3]\n",
    "\n",
    "lst_repl = lst1 * 3\n",
    "print(lst_concat)"
   ]
  },
  {
   "cell_type": "code",
   "execution_count": 21,
   "metadata": {},
   "outputs": [
    {
     "name": "stdout",
     "output_type": "stream",
     "text": [
      "5\n",
      "[1, 2, 3, 4]\n",
      "\n",
      "*********************************************\n",
      "o\n",
      "Hell\n"
     ]
    }
   ],
   "source": [
    "# 3. Indexing and slicing\n",
    "\n",
    "# Lists can be indexed and sliced in the same way as strings. For e.g.\n",
    "\n",
    "lst = [1,2,3,4,5,6,7,8,9]\n",
    "\n",
    "lst_index_4 = lst[4] # This is indexing\n",
    "lst_slice_4 = lst[0:4:1] # This is list slicing till index 4, excluding 4, with steo size = 1 in right direction\n",
    "\n",
    "print(lst_index_4)\n",
    "print(lst_slice_4)\n",
    "\n",
    "print(\"\\n*********************************************\")\n",
    "\n",
    "# Similarly, strings can also be sliced and indexed. For e.g.\n",
    "\n",
    "str1 = \"Hello world\"\n",
    "\n",
    "str_index_4 = str1[4]\n",
    "str_slice_4 = str1[0:4:1]\n",
    "\n",
    "print(str_index_4)\n",
    "print(str_slice_4)"
   ]
  },
  {
   "cell_type": "code",
   "execution_count": 22,
   "metadata": {},
   "outputs": [
    {
     "name": "stdout",
     "output_type": "stream",
     "text": [
      "index_of_4_in_lst: 3\n",
      "\n",
      "********************************************\n",
      "index_of_l_in_str: 2\n",
      "index_of_o_in_str: 4\n"
     ]
    }
   ],
   "source": [
    "# 4. Finding the index of the elements using inbuilt methods \n",
    "# like index method in list & string, and find method in string.\n",
    "\n",
    "# For e.g.\n",
    "lst = [1,2,3,4,1,5,6,3,2,4,1]\n",
    "index_of_4 = lst.index(4) # This statement will return the index of the position where 4 occurs 1st time.\n",
    "print(\"index_of_4_in_lst:\",index_of_4)\n",
    "\n",
    "print(\"\\n********************************************\")\n",
    "\n",
    "# Similary, we do for strings:\n",
    "str1 = \"Hello world\"\n",
    "\n",
    "index_of_l = str1.index('l')\n",
    "print(\"index_of_l_in_str:\",index_of_l)\n",
    "\n",
    "# similarly, there is another method in string called find\n",
    "index_of_o = str1.find('o')\n",
    "print(\"index_of_o_in_str:\",index_of_o)"
   ]
  },
  {
   "cell_type": "code",
   "execution_count": 23,
   "metadata": {},
   "outputs": [
    {
     "name": "stdout",
     "output_type": "stream",
     "text": [
      "count_of_5_in_lst: 3\n",
      "count_of_l_in_str: 3\n"
     ]
    }
   ],
   "source": [
    "# 5. Inbuilt method (count) which returns the count for the \n",
    "# specific elements in list or string. For e.g. \"hello\".count('l') returns 2 \n",
    "\n",
    "#  For e.g.\n",
    "\n",
    "lst = [1,2,3,4,5,2,5,6,2,1,4,5]\n",
    "count_of_5_in_lst = lst.count(5)\n",
    "print(\"count_of_5_in_lst:\",count_of_5_in_lst)\n",
    "\n",
    "# similarly for strings,\n",
    "\n",
    "str1 = \"Hello world\"\n",
    "count_of_l_in_str = str1.count(\"l\")\n",
    "\n",
    "print(\"count_of_l_in_str:\",count_of_l_in_str)"
   ]
  },
  {
   "cell_type": "markdown",
   "metadata": {},
   "source": [
    "# Que13: What&#39;s the difference between tuples and lists?\n",
    "\n",
    "<h3> Ans: The differences between the list and tuple are:<br><br>\n",
    "    <ol><li>Lists are mutable, while tuples are immutable<br><br></li>\n",
    "        <li> An empty list is denoted by the symbol [ ], while an empty tuple is denoted by ()<br><br></li>\n",
    "        <li>To specify the collection of one or more element as a list, then those elements need to be enclosed in [ ]. For e.g. [1,2,3,4,5], while for tuple, no parenthesis is required. Only separating the elements with comma (,) makes that collection tuple. For e.g.<br> \n",
    "            x = 1,2,3,4,5<br>\n",
    "            type(x) ==> tuple<br><br></li>\n",
    "        <li> Lists have variable length, while tuples have fixed length. That's because tuples are immutable.<br><br></li>\n",
    "        <li> Because tuples are immutable, therefore they have lesser functionality than lists.</li>\n",
    "    </ol>\n",
    "    "
   ]
  },
  {
   "cell_type": "markdown",
   "metadata": {},
   "source": [
    "# Que14: How do you type a tuple value that only contains the integer 42?\n",
    "\n",
    "<h3> Ans: Simply type:  42,</h3>"
   ]
  },
  {
   "cell_type": "code",
   "execution_count": 24,
   "metadata": {},
   "outputs": [
    {
     "data": {
      "text/plain": [
       "tuple"
      ]
     },
     "execution_count": 24,
     "metadata": {},
     "output_type": "execute_result"
    }
   ],
   "source": [
    "# For e.g.\n",
    "\n",
    "tup = 42,\n",
    "type(tup)"
   ]
  },
  {
   "cell_type": "markdown",
   "metadata": {},
   "source": [
    "# Que15: How do you get a list value&#39;s tuple form? How do you get a tuple value&#39;s list form?"
   ]
  },
  {
   "cell_type": "code",
   "execution_count": 25,
   "metadata": {},
   "outputs": [
    {
     "data": {
      "text/plain": [
       "tuple"
      ]
     },
     "execution_count": 25,
     "metadata": {},
     "output_type": "execute_result"
    }
   ],
   "source": [
    "# To get list values's tuple form:\n",
    "lst = [1,2,3,4,5]\n",
    "tup_from_lst = tuple(lst)\n",
    "type(tup_from_lst)"
   ]
  },
  {
   "cell_type": "code",
   "execution_count": 26,
   "metadata": {},
   "outputs": [
    {
     "data": {
      "text/plain": [
       "list"
      ]
     },
     "execution_count": 26,
     "metadata": {},
     "output_type": "execute_result"
    }
   ],
   "source": [
    "# To get tuple value's list form:\n",
    "tup = 1,2,3,4,5\n",
    "lst_from_tup = list(tup)\n",
    "type(lst_from_tup)"
   ]
  },
  {
   "cell_type": "markdown",
   "metadata": {},
   "source": [
    "# Que16: Variables that &quot;contain&quot; list values are not necessarily lists themselves. Instead, what do they contain?\n",
    "### Ans: Memory address for that list"
   ]
  },
  {
   "cell_type": "markdown",
   "metadata": {},
   "source": [
    "# Que17: 17. How do you distinguish between copy.copy() and copy.deepcopy()?\n",
    "\n",
    "### Ans: \n",
    "### copy.copy() is the shallow copy in which a new object is created, which copies and stores the references of the original elements. A shallow copy doesn't create the reference copies of the inner(nested) list elements, rather it just copies the reference of the nested list/objects. As a result, the elements of the nested list refers to the same object as the original, thus a change in any of the nested element in one collection results in the similar change in another.\n",
    "\n",
    "### copy.deepcopy creates a new object by making a deep copy of elements, i.e. the new object stores the references of the original elements, which includes even the references of deep/nested elements. As a result, if we change any nested element in one collection, its change is not reflected in another.\n",
    "### Let's explain it with the help of code."
   ]
  },
  {
   "cell_type": "code",
   "execution_count": 27,
   "metadata": {},
   "outputs": [],
   "source": [
    "import copy"
   ]
  },
  {
   "cell_type": "code",
   "execution_count": 28,
   "metadata": {},
   "outputs": [],
   "source": [
    "lst = [1,2,3,['a','b','c',[4,5,6]],7,8,9]\n",
    "# Now, let's implement copy and deepcopy method.\n",
    "lst_copy = copy.copy(lst)\n",
    "lst_deepcopy = copy.deepcopy(lst)"
   ]
  },
  {
   "cell_type": "code",
   "execution_count": 29,
   "metadata": {},
   "outputs": [
    {
     "name": "stdout",
     "output_type": "stream",
     "text": [
      "[1, 2, 3, ['a', 'b', 'c', [4, 5, 6]], 7, 8, 9]\n",
      "[0, 2, 3, ['a', 'b', 'c', [4, 5, 6]], 7, 8, 9]\n"
     ]
    }
   ],
   "source": [
    "# Now, if we modify the lst_copy, then,\n",
    "\n",
    "lst_copy[0] = 0\n",
    "print(lst)\n",
    "print(lst_copy) # Clearly, it didn't affect lst[0]"
   ]
  },
  {
   "cell_type": "code",
   "execution_count": 31,
   "metadata": {},
   "outputs": [
    {
     "name": "stdout",
     "output_type": "stream",
     "text": [
      "[0, 2, 3, ['x', 'b', 'c', [4, 5, 6]], 7, 8, 9]\n",
      "[1, 2, 3, ['x', 'b', 'c', [4, 5, 6]], 7, 8, 9]\n"
     ]
    }
   ],
   "source": [
    "# Now, let's modify inner(nested) list elements\n",
    "lst_copy[3][0] = 'x'\n",
    "\n",
    "print(lst_copy)\n",
    "print(lst)\n",
    "# We see that lst's element of inner list is also changed!\n",
    "# But when we do the same thing with deep copy, then,"
   ]
  },
  {
   "cell_type": "code",
   "execution_count": 32,
   "metadata": {},
   "outputs": [
    {
     "name": "stdout",
     "output_type": "stream",
     "text": [
      "[0, 2, 3, ['a', 'b', 'c', [4, 5, 6]], 7, 8, 9]\n",
      "[1, 2, 3, ['a', 'b', 'c', [4, 5, 6]], 7, 8, 9]\n"
     ]
    }
   ],
   "source": [
    "lst = [1,2,3,['a','b','c',[4,5,6]],7,8,9]\n",
    "\n",
    "\n",
    "lst_deepcopy[0] = 0\n",
    "\n",
    "print(lst_deepcopy)\n",
    "print(lst)\n",
    "\n",
    "# No impact on lst"
   ]
  },
  {
   "cell_type": "code",
   "execution_count": 33,
   "metadata": {},
   "outputs": [
    {
     "name": "stdout",
     "output_type": "stream",
     "text": [
      "[0, 2, 3, ['x', 'b', 'c', [4, 5, 6]], 7, 8, 9]\n",
      "[1, 2, 3, ['a', 'b', 'c', [4, 5, 6]], 7, 8, 9]\n"
     ]
    }
   ],
   "source": [
    "# Now let's modify the inner list\n",
    "\n",
    "lst_deepcopy[3][0] = 'x'\n",
    "\n",
    "print(lst_deepcopy)\n",
    "print(lst)\n",
    "# We see that the inner list in lst is not changed. \n",
    "# That's the speciality of deepcopy method."
   ]
  },
  {
   "cell_type": "code",
   "execution_count": null,
   "metadata": {},
   "outputs": [],
   "source": []
  }
 ],
 "metadata": {
  "kernelspec": {
   "display_name": "Python 3",
   "language": "python",
   "name": "python3"
  },
  "language_info": {
   "codemirror_mode": {
    "name": "ipython",
    "version": 3
   },
   "file_extension": ".py",
   "mimetype": "text/x-python",
   "name": "python",
   "nbconvert_exporter": "python",
   "pygments_lexer": "ipython3",
   "version": "3.8.5"
  }
 },
 "nbformat": 4,
 "nbformat_minor": 4
}
