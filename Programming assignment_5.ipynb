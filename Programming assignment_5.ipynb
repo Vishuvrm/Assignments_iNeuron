{
 "cells": [
  {
   "cell_type": "markdown",
   "metadata": {},
   "source": [
    "# Que1. Write a Python Program to Find LCM?"
   ]
  },
  {
   "cell_type": "code",
   "execution_count": 38,
   "metadata": {},
   "outputs": [],
   "source": [
    "def GCF(a,b):\n",
    "    x1 = set()\n",
    "    x2 = set()\n",
    "\n",
    "    for i in range(1,a+1):\n",
    "        if a%i == 0:\n",
    "            x1.add(i)\n",
    "    for i in range(1,b+1):\n",
    "        if b%i == 0:\n",
    "            x2.add(i)\n",
    "\n",
    "    return max(x1.intersection(x2))\n",
    "\n",
    "def LCM(*args)->\"LCM using GCF mechanism\":\n",
    "    from functools import reduce\n",
    "\n",
    "    return reduce(lambda x,y: int(x*y/GCF(x,y)), args)\n",
    "    \n"
   ]
  },
  {
   "cell_type": "code",
   "execution_count": 44,
   "metadata": {},
   "outputs": [
    {
     "data": {
      "text/plain": [
       "120"
      ]
     },
     "execution_count": 44,
     "metadata": {},
     "output_type": "execute_result"
    }
   ],
   "source": [
    "LCM(4,5,6,8,10)"
   ]
  },
  {
   "cell_type": "markdown",
   "metadata": {},
   "source": [
    "# Que2. Write a Python Program to Find HCF?"
   ]
  },
  {
   "cell_type": "code",
   "execution_count": 80,
   "metadata": {},
   "outputs": [],
   "source": [
    "def GCF(a,b):\n",
    "    x1 = set()\n",
    "    x2 = set()\n",
    "\n",
    "    for i in range(1,a+1):\n",
    "        if a%i == 0:\n",
    "            x1.add(i)\n",
    "    for i in range(1,b+1):\n",
    "        if b%i == 0:\n",
    "            x2.add(i)\n",
    "\n",
    "    return max(x1.intersection(x2))\n",
    "\n",
    "def HCF(*args):\n",
    "    from functools import reduce\n",
    "    return reduce(lambda x,y: int(GCF(x,y)), args)"
   ]
  },
  {
   "cell_type": "code",
   "execution_count": 83,
   "metadata": {},
   "outputs": [
    {
     "data": {
      "text/plain": [
       "2"
      ]
     },
     "execution_count": 83,
     "metadata": {},
     "output_type": "execute_result"
    }
   ],
   "source": [
    "HCF(8,32,10,6)"
   ]
  },
  {
   "cell_type": "markdown",
   "metadata": {},
   "source": [
    "# Que3. Write a Python Program to Convert Decimal to Binary, Octal and Hexadecimal?"
   ]
  },
  {
   "cell_type": "code",
   "execution_count": 115,
   "metadata": {},
   "outputs": [],
   "source": [
    "def convert(decimal, to:\"binary or octal\"):\n",
    "    if to==\"binary\":\n",
    "        print(\"Decimal to Binary:\")\n",
    "        num = decimal\n",
    "        binary = \"\"\n",
    "        while True:\n",
    "            rem = num%2\n",
    "            num = num//2\n",
    "            binary += str(rem)\n",
    "            if num==0:\n",
    "                return f\"{decimal} = {binary[::-1]}\"\n",
    "    \n",
    "    if to ==\"octal\":\n",
    "        print(\"Decimal to Octal\")\n",
    "        num = decimal\n",
    "        octal = \"\"\n",
    "        while True:\n",
    "            rem = num%8\n",
    "            num = num//8\n",
    "            octal += str(rem)\n",
    "            if num==0:\n",
    "                return f\"{decimal} = {octal[::-1]}\"\n",
    "    "
   ]
  },
  {
   "cell_type": "code",
   "execution_count": 121,
   "metadata": {},
   "outputs": [
    {
     "name": "stdout",
     "output_type": "stream",
     "text": [
      "Decimal to Binary:\n"
     ]
    },
    {
     "data": {
      "text/plain": [
       "'20 = 10100'"
      ]
     },
     "execution_count": 121,
     "metadata": {},
     "output_type": "execute_result"
    }
   ],
   "source": [
    "convert(20, to = \"binary\")"
   ]
  },
  {
   "cell_type": "code",
   "execution_count": 122,
   "metadata": {},
   "outputs": [
    {
     "name": "stdout",
     "output_type": "stream",
     "text": [
      "Decimal to Octal\n"
     ]
    },
    {
     "data": {
      "text/plain": [
       "'20 = 24'"
      ]
     },
     "execution_count": 122,
     "metadata": {},
     "output_type": "execute_result"
    }
   ],
   "source": [
    "convert(20, to = \"octal\")"
   ]
  },
  {
   "cell_type": "markdown",
   "metadata": {},
   "source": [
    "### Another shorter way is:"
   ]
  },
  {
   "cell_type": "code",
   "execution_count": 126,
   "metadata": {},
   "outputs": [],
   "source": [
    "# Another shorter way is:\n",
    "\n",
    "def to_bin(n: \"decimal\"):\n",
    "    return bin(n)\n",
    "\n",
    "def to_oct(n: \"decimal\"):\n",
    "    return oct(n)"
   ]
  },
  {
   "cell_type": "code",
   "execution_count": 127,
   "metadata": {},
   "outputs": [
    {
     "data": {
      "text/plain": [
       "'0b10100'"
      ]
     },
     "execution_count": 127,
     "metadata": {},
     "output_type": "execute_result"
    }
   ],
   "source": [
    "to_bin(20)"
   ]
  },
  {
   "cell_type": "code",
   "execution_count": 128,
   "metadata": {},
   "outputs": [
    {
     "data": {
      "text/plain": [
       "'0o24'"
      ]
     },
     "execution_count": 128,
     "metadata": {},
     "output_type": "execute_result"
    }
   ],
   "source": [
    "to_oct(20)"
   ]
  },
  {
   "cell_type": "markdown",
   "metadata": {},
   "source": [
    "# Que4. Write a Python Program To Find ASCII value of a character?"
   ]
  },
  {
   "cell_type": "code",
   "execution_count": 137,
   "metadata": {},
   "outputs": [
    {
     "name": "stdout",
     "output_type": "stream",
     "text": [
      "Enter the character: A\n",
      "ASCII value of A is 65\n"
     ]
    }
   ],
   "source": [
    "def asc(x:\"object\"):\n",
    "    return ord(x)\n",
    "x = input(\"Enter the character: \")\n",
    "print(f\"ASCII value of {x} is {asc(x)}\")"
   ]
  },
  {
   "cell_type": "markdown",
   "metadata": {},
   "source": [
    "# Que5. Write a Python Program to Make a Simple Calculator with 4 basic mathematical operations?"
   ]
  },
  {
   "cell_type": "code",
   "execution_count": 140,
   "metadata": {},
   "outputs": [],
   "source": [
    "class Calculator:\n",
    "    from functools import reduce\n",
    "    def __init__(self):\n",
    "        pass\n",
    "    def add(self,*args):\n",
    "        return reduce(lambda x,y: x+y, args)\n",
    "    def sub(self,*args):\n",
    "        return reduce(lambda x,y: x-y, args)\n",
    "    def mult(self,*args):\n",
    "        return reduce(lambda x,y:x*y, args)\n",
    "    def divide(self, *args):\n",
    "        return reduce(lambda x,y: x/y, args)"
   ]
  },
  {
   "cell_type": "code",
   "execution_count": 141,
   "metadata": {},
   "outputs": [],
   "source": [
    "calc = Calculator()"
   ]
  },
  {
   "cell_type": "code",
   "execution_count": 143,
   "metadata": {},
   "outputs": [
    {
     "data": {
      "text/plain": [
       "15"
      ]
     },
     "execution_count": 143,
     "metadata": {},
     "output_type": "execute_result"
    }
   ],
   "source": [
    "# Addition\n",
    "calc.add(1,2,3,4,5)"
   ]
  },
  {
   "cell_type": "code",
   "execution_count": 146,
   "metadata": {},
   "outputs": [
    {
     "data": {
      "text/plain": [
       "5"
      ]
     },
     "execution_count": 146,
     "metadata": {},
     "output_type": "execute_result"
    }
   ],
   "source": [
    "# Subtraction\n",
    "calc.sub(15,10)"
   ]
  },
  {
   "cell_type": "code",
   "execution_count": 147,
   "metadata": {},
   "outputs": [
    {
     "data": {
      "text/plain": [
       "120"
      ]
     },
     "execution_count": 147,
     "metadata": {},
     "output_type": "execute_result"
    }
   ],
   "source": [
    "# Multiplication\n",
    "calc.mult(1,2,3,4,5)"
   ]
  },
  {
   "cell_type": "code",
   "execution_count": 148,
   "metadata": {},
   "outputs": [
    {
     "data": {
      "text/plain": [
       "5.0"
      ]
     },
     "execution_count": 148,
     "metadata": {},
     "output_type": "execute_result"
    }
   ],
   "source": [
    "# Division\n",
    "calc.divide(10,2)"
   ]
  },
  {
   "cell_type": "code",
   "execution_count": null,
   "metadata": {},
   "outputs": [],
   "source": []
  }
 ],
 "metadata": {
  "kernelspec": {
   "display_name": "Python 3",
   "language": "python",
   "name": "python3"
  },
  "language_info": {
   "codemirror_mode": {
    "name": "ipython",
    "version": 3
   },
   "file_extension": ".py",
   "mimetype": "text/x-python",
   "name": "python",
   "nbconvert_exporter": "python",
   "pygments_lexer": "ipython3",
   "version": "3.8.5"
  }
 },
 "nbformat": 4,
 "nbformat_minor": 4
}
