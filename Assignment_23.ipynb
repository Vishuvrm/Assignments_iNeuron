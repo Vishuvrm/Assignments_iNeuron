{
 "cells": [
  {
   "cell_type": "markdown",
   "metadata": {},
   "source": [
    "# Que1. What is the result of the code, and why?\n",
    "<pre>\n",
    "&gt;&gt;&gt; def func(a, b=6, c=8):\n",
    "        print(a, b, c)\n",
    "&gt;&gt;&gt; func(1, 2)\n",
    "</pre>"
   ]
  },
  {
   "cell_type": "markdown",
   "metadata": {},
   "source": [
    "### Ans: The above code will print below to the console:\n",
    "        1 2 8\n",
    "\n",
    "### Explanation:\n",
    "    Herein, we difine a function with three parameters as follows:\n",
    "        1.  a => It is the positional parameter.\n",
    "        2.  b=6 => It is also the positional parameter, but with default value as 6.\n",
    "        3.  c=8 => It is another positional parameter with default value as 8\n",
    "    \n",
    "    Within the body of the function, we have a print statement: print(a, b, c)\n",
    "        This will print the values we pass as arguements to the func\n",
    "        \n",
    "    \n",
    "    Now, we call the function as: func(1,2)\n",
    "    Here, 1 & 2 are the positional arguements, thus here 1 is assigned to a, and 2 is assigned to b, and c already has a default value of 8.\n",
    "    \n",
    "    As a result, when the print statement inside func is executed, it will print the following:\n",
    "                            \n",
    "                            1 2 8"
   ]
  },
  {
   "cell_type": "code",
   "execution_count": 1,
   "metadata": {},
   "outputs": [],
   "source": [
    "def func(a, b=6, c=8):\n",
    "    print(a,b,c)"
   ]
  },
  {
   "cell_type": "code",
   "execution_count": 2,
   "metadata": {},
   "outputs": [
    {
     "name": "stdout",
     "output_type": "stream",
     "text": [
      "1 2 8\n"
     ]
    }
   ],
   "source": [
    "func(1,2)"
   ]
  },
  {
   "cell_type": "markdown",
   "metadata": {},
   "source": [
    "# Que2. What is the result of this code, and why?\n",
    "<pre>\n",
    "&gt;&gt;&gt; def func(a, b, c=5):\n",
    "        print(a, b, c)\n",
    "&gt;&gt;&gt; func(1, c=3, b=2)\n",
    "</pre>"
   ]
  },
  {
   "cell_type": "markdown",
   "metadata": {},
   "source": [
    "### Ans: The above code will the below ouyput in the console:\n",
    "            1 2 3\n",
    "            \n",
    "### Explanation:\n",
    "    Herein, we define a function with three parameters as follows:\n",
    "    1.  a => It is the positional parameter.\n",
    "    2.  b => It is another positional parameter\n",
    "    3.  c=5 => It is another positional parameter with default value as 5\n",
    "\n",
    "    Within the body of the function, we have a print statement: print(a, b, c)\n",
    "        This will print the values we pass as arguements to the func\n",
    "\n",
    "\n",
    "    Now, we call the function as: func(1, c=3, b=2)\n",
    "    Here, 1 is the positional arguement, which is assigned to a. The next arguement is c=3, which is the keyword arguement, thus c is assigned value 3, and the last arguement is b=2, which is also the keyword arguement, thus b is assigned value 2.\n",
    "\n",
    "    As a result, when the print statement inside func is executed, it will print the following:\n",
    "    \n",
    "                            1 2 3"
   ]
  },
  {
   "cell_type": "code",
   "execution_count": 3,
   "metadata": {},
   "outputs": [
    {
     "name": "stdout",
     "output_type": "stream",
     "text": [
      "1 2 3\n"
     ]
    }
   ],
   "source": [
    "def func(a, b, c=5):\n",
    "    print(a, b, c)\n",
    "\n",
    "func(1, c=3, b=2)"
   ]
  },
  {
   "cell_type": "markdown",
   "metadata": {},
   "source": [
    "# Que3. How about this code: what is its result, and why?\n",
    "<pre>\n",
    "&gt;&gt;&gt; def func(a, *pargs):\n",
    "        print(a, pargs)\n",
    "&gt;&gt;&gt; func(1, 2, 3)\n",
    "</pre>"
   ]
  },
  {
   "cell_type": "markdown",
   "metadata": {},
   "source": [
    "### Ans: The above code will print the following to the console:\n",
    "        1 (2, 3)\n",
    "        \n",
    "### Explanation:\n",
    "     Here, we define the function called func with the following parameters:\n",
    "           a => This is just a simple positional parameter\n",
    "           *pargs => This is the positional parameter which takes multiple positional arguements\n",
    "     \n",
    "     The body of the function contains a print statement which prints all these arguements to the console: print(a, *pargs)\n",
    "     \n",
    "     \n",
    "     Now, when we call function func, we provide 3 postioanl arguements as: 1, 2, 3\n",
    "     In this, the 1st positional arguement (1) is assigned to the 1st positional parameter (a).\n",
    "     \n",
    "     The remaining 2 positional arguements (2 & 3) are assigned to the parameter *pargs as single tuple with those arguements, i.e. pargs = (2,3)\n",
    "     \n",
    "     Next, when the print statement in func body is executed, it will print the following in the console:\n",
    "     \n",
    "                             1 (2,3)\n",
    "           "
   ]
  },
  {
   "cell_type": "code",
   "execution_count": 4,
   "metadata": {},
   "outputs": [],
   "source": [
    "def func(a, *pargs):\n",
    "    print(a, pargs)"
   ]
  },
  {
   "cell_type": "code",
   "execution_count": 5,
   "metadata": {},
   "outputs": [
    {
     "name": "stdout",
     "output_type": "stream",
     "text": [
      "1 (2, 3)\n"
     ]
    }
   ],
   "source": [
    "func(1,2,3)"
   ]
  },
  {
   "cell_type": "markdown",
   "metadata": {},
   "source": [
    "# Que4. What does this code print, and why?\n",
    "<pre>\n",
    "&gt;&gt;&gt; def func(a, **kargs):\n",
    "        print(a, kargs)\n",
    "&gt;&gt;&gt; func(a=1, c=3, b=2)\n",
    "</pre>"
   ]
  },
  {
   "cell_type": "markdown",
   "metadata": {},
   "source": [
    "### Ans: The above code will print the following to the console:\n",
    "            1 {'c': 3, 'b': 2}\n",
    "\n",
    "### Explanation: \n",
    "    Here, we define the function called func with the following parameters:\n",
    "           a => This is just a simple positional parameter\n",
    "           **kwargs => This is the keyword parameter which takes multiple keyword arguements\n",
    "     \n",
    "     The body of the function contains a print statement which prints all these arguements to the console: print(a, **kwargs)\n",
    "     \n",
    "     \n",
    "     Now, when we call function func, we provide 3 keyword arguements as: func(a=1, c=3, b=2)\n",
    "     \n",
    "     In this, the 1st keyword arguement (a=1) will assign the value 1 to the 1st positional parameter (a).\n",
    "     \n",
    "     The remaining 2 keyword arguements (c=3 & b=2) are assigned to the parameter kwargs as single dict with keys as the parameter name and values as the values passed as arguements, i.e.\n",
    "                 kwargs = {'c': 3, 'b': 2}\n",
    "     \n",
    "     Next, when the print statement in func body is executed, it will print the following in the console:\n",
    "     \n",
    "                             1 {'c': 3, 'b': 2}"
   ]
  },
  {
   "cell_type": "code",
   "execution_count": 6,
   "metadata": {},
   "outputs": [],
   "source": [
    "def func(a, **kwargs):\n",
    "    print(a, kwargs)"
   ]
  },
  {
   "cell_type": "code",
   "execution_count": 7,
   "metadata": {},
   "outputs": [
    {
     "name": "stdout",
     "output_type": "stream",
     "text": [
      "1 {'c': 3, 'b': 2}\n"
     ]
    }
   ],
   "source": [
    "func(a=1, c=3, b=2)"
   ]
  },
  {
   "cell_type": "markdown",
   "metadata": {},
   "source": [
    "# Que5. What gets printed by this, and explain?\n",
    "<pre>\n",
    "&gt;&gt;&gt; def func(a, b, c=8, d=5): print(a, b, c, d)\n",
    "&gt;&gt;&gt; func(1, *(5, 6))\n",
    "</pre>"
   ]
  },
  {
   "cell_type": "markdown",
   "metadata": {},
   "source": [
    "### Ans: The above code will will print the following to the console:\n",
    "                    1 5 6 5\n",
    "                    \n",
    "### Explanation:\n",
    "    Herein, we define a function named func having parameters as:\n",
    "        a => First positional parameter\n",
    "        b => 2nd positional parameter\n",
    "        c => 3rd default positional parameter with default value 8\n",
    "        d => 4th default positional parameter with default value 5\n",
    "        \n",
    "    Within the body of func, there is a print statement which print the values of the arguements we passed to the function: print(a, b, c, d)\n",
    "    \n",
    "    Now when we call the function as func(1, *(5,6)), we see that there are 2 arguements passed, i.e. (1 and *(5,6)) to the function.\n",
    "    In this, the first arguement: 1,  is just a positional arguement which gets assigned to the first positional parameter a.\n",
    "    Thus a = 1\n",
    "    \n",
    "    Now, the 2nd positional arguement is *(5,6), which is actually the unpacked tuple. This unpacked tuple releases all the elements inside to the tuple as the positional arguements.\n",
    "    As a result, the 2nd and 3rd positional parameters are assigned the values 5 & 6.\n",
    "    Thus, b = 5  &  c = 6\n",
    "    \n",
    "    Now, we didn't passed the value for the final positional parameter d, so it will take the default value.\n",
    "    Thus, d = 5\n",
    "    \n",
    "    Now, when the print statement inside the func body is executed, it will print the following to the console:\n",
    "                \n",
    "                        1 5 6 5"
   ]
  },
  {
   "cell_type": "code",
   "execution_count": 8,
   "metadata": {},
   "outputs": [],
   "source": [
    "def func(a, b, c=8, d=5): print(a,b,c,d)"
   ]
  },
  {
   "cell_type": "code",
   "execution_count": 9,
   "metadata": {},
   "outputs": [
    {
     "name": "stdout",
     "output_type": "stream",
     "text": [
      "1 5 6 5\n"
     ]
    }
   ],
   "source": [
    "func(1, *(5, 6))"
   ]
  },
  {
   "cell_type": "markdown",
   "metadata": {},
   "source": [
    "# Que6. what is the result of this, and explain?\n",
    "<pre>\n",
    "&gt;&gt;&gt; def func(a, b, c): a = 2; b[0] = &#39;x&#39;; c[&#39;a&#39;] = &#39;y&#39;\n",
    "&gt;&gt;&gt; l=1; m=[1]; n={&#39;a&#39;:0}\n",
    "&gt;&gt;&gt; func(l, m, n)\n",
    "\n",
    "&gt;&gt;&gt; l, m, n\n",
    "</pre>"
   ]
  },
  {
   "cell_type": "markdown",
   "metadata": {},
   "source": [
    "### Ans: The above code will print the following to the console:\n",
    "                    (1, ['x'], {'a': 'y'})\n",
    "                   \n",
    "                   \n",
    "### Explanation:\n",
    "    Herein, in the global scope, there are 3 variables as:\n",
    "        l = 1\n",
    "        m = [1]\n",
    "        n = {'a': 0}\n",
    "    \n",
    "    Now, when we call the function func(l, m, n), then its local variables (a, b, c) are assigned the values as:\n",
    "        a = l\n",
    "        b = m\n",
    "        c = n\n",
    "    \n",
    "    Now, the body of the function func is executed as:\n",
    "        a = 2  : Thus, the local variable a now points to a new object => 2, instead of l\n",
    "        \n",
    "        b[0]='x'  :Since b refers to the list m, and also lists are mutable, this statement replaces the 1st element of list with 'x', and this change is inplace, i.e. Changes occured in the original list m.\n",
    "        \n",
    "        c['a']='y'  : Since c refers to the dictionary n, and also dictionaries in python are mutable, thus this statement causes an inplace change in the dictionary n.\n",
    "        \n",
    "\n",
    "    Now, when we print the values of l, m, n in the global scope, then,\n",
    "        \n",
    "        l = It's value is unchanged because:\n",
    "                    1. No statement in the global scope affects its value\n",
    "                    2. Within the function, local variable a, which initially points to l, now points to another integer object=> 2, thus original variable l(in global scope remains unchanged)\n",
    "                    \n",
    "        m = Its value is changed in the global scope because m is a list, which is mutable, and within the function func, there were inplace changes made to it using the variable b. Its changed value is ['x']\n",
    "        \n",
    "        n = Its value is changed in the global scope because n is a dict object, which is mutable, and within the function func, there were inplace changes made to it using the variable c. Its changed value is {'a': 'y'}\n",
    "        \n",
    "  \n",
    "    Thus, when we print l, m ,n: We get the following results in the console:\n",
    "                            \n",
    "                            (1, ['x'], {'a': 'y'})"
   ]
  },
  {
   "cell_type": "code",
   "execution_count": 13,
   "metadata": {},
   "outputs": [],
   "source": [
    "def func(a, b, c):\n",
    "    a = 2; \n",
    "    b[0] = 'x'; \n",
    "    c['a'] = 'y'\n",
    "\n",
    "\n",
    "l=1; \n",
    "m=[1]; \n",
    "n={'a':0}"
   ]
  },
  {
   "cell_type": "code",
   "execution_count": 14,
   "metadata": {},
   "outputs": [],
   "source": [
    "func(l, m, n)"
   ]
  },
  {
   "cell_type": "code",
   "execution_count": 15,
   "metadata": {},
   "outputs": [
    {
     "data": {
      "text/plain": [
       "(1, ['x'], {'a': 'y'})"
      ]
     },
     "execution_count": 15,
     "metadata": {},
     "output_type": "execute_result"
    }
   ],
   "source": [
    "l, m, n"
   ]
  }
 ],
 "metadata": {
  "kernelspec": {
   "display_name": "Python 3",
   "language": "python",
   "name": "python3"
  },
  "language_info": {
   "codemirror_mode": {
    "name": "ipython",
    "version": 3
   },
   "file_extension": ".py",
   "mimetype": "text/x-python",
   "name": "python",
   "nbconvert_exporter": "python",
   "pygments_lexer": "ipython3",
   "version": "3.8.5"
  }
 },
 "nbformat": 4,
 "nbformat_minor": 4
}
