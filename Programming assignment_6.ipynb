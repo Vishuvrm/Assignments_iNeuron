{
 "cells": [
  {
   "cell_type": "markdown",
   "metadata": {},
   "source": [
    "# Que1. Write a Python Program to Display Fibonacci Sequence Using Recursion?"
   ]
  },
  {
   "cell_type": "code",
   "execution_count": 1,
   "metadata": {},
   "outputs": [],
   "source": [
    "cache = {0,1}\n",
    "def fibo(n):\n",
    "    if n in cache:\n",
    "        return n\n",
    "    else:\n",
    "        result = fibo(n-1) + fibo(n-2)\n",
    "        cache.add(result)\n",
    "        return result"
   ]
  },
  {
   "cell_type": "code",
   "execution_count": 2,
   "metadata": {},
   "outputs": [
    {
     "name": "stdout",
     "output_type": "stream",
     "text": [
      "nth term of fibonacci sequence: 10\n",
      "Fibonacci sequence: 0,1,1,2,5,5,10,15,25,40,"
     ]
    }
   ],
   "source": [
    "n = int(input(\"nth term of fibonacci sequence: \"))\n",
    "print(\"Fibonacci sequence: \", end=\"\")\n",
    "for i in range(n):\n",
    "    print(fibo(i), end=\",\")"
   ]
  },
  {
   "cell_type": "markdown",
   "metadata": {},
   "source": [
    "# Que2. Write a Python Program to Find Factorial of Number Using Recursion?"
   ]
  },
  {
   "cell_type": "code",
   "execution_count": 3,
   "metadata": {},
   "outputs": [],
   "source": [
    "cache = dict()\n",
    "def fact(n):\n",
    "    if n == 1:\n",
    "        return 1\n",
    "    result = n*fact(n-1)\n",
    "    cache[n] = result\n",
    "    return result"
   ]
  },
  {
   "cell_type": "code",
   "execution_count": 4,
   "metadata": {
    "scrolled": true
   },
   "outputs": [
    {
     "data": {
      "text/plain": [
       "120"
      ]
     },
     "execution_count": 4,
     "metadata": {},
     "output_type": "execute_result"
    }
   ],
   "source": [
    "fact(5)"
   ]
  },
  {
   "cell_type": "markdown",
   "metadata": {},
   "source": [
    "# Que3. Write a Python Program to calculate your Body Mass Index?"
   ]
  },
  {
   "cell_type": "code",
   "execution_count": 5,
   "metadata": {},
   "outputs": [
    {
     "name": "stdout",
     "output_type": "stream",
     "text": [
      "Enter your weight(Kg): 64\n",
      "Enter your height(m): 1.5\n",
      "Your BMI is: 28.444444444444443\n"
     ]
    }
   ],
   "source": [
    "weight = float(input(\"Enter your weight(Kg): \"))\n",
    "height = float(input(\"Enter your height(m): \"))\n",
    "\n",
    "BMI = weight/(height)**2\n",
    "print(\"Your BMI is:\", BMI)"
   ]
  },
  {
   "cell_type": "markdown",
   "metadata": {},
   "source": [
    "# Que4. Write a Python Program to calculate the natural logarithm of any number?"
   ]
  },
  {
   "cell_type": "code",
   "execution_count": 6,
   "metadata": {},
   "outputs": [
    {
     "name": "stdout",
     "output_type": "stream",
     "text": [
      "Enter the number:25\n",
      "loge(25.0) = 3.2188758248682006\n"
     ]
    }
   ],
   "source": [
    "import math\n",
    "try:\n",
    "    x = float(input(\"Enter the number:\"))\n",
    "    log = math.log(x, math.e)\n",
    "    print(f\"loge({x}) = {log}\")\n",
    "except ValueError:\n",
    "    print(f\"Log value {x} is invalid!\")"
   ]
  },
  {
   "cell_type": "markdown",
   "metadata": {},
   "source": [
    "# Que5. Write a Python Program for cube sum of first n natural numbers?"
   ]
  },
  {
   "cell_type": "code",
   "execution_count": 7,
   "metadata": {},
   "outputs": [],
   "source": [
    "def sum_of_cubes(n):\n",
    "    s = 0\n",
    "    for i in range(1,n+1):\n",
    "        s += i**3\n",
    "    return s"
   ]
  },
  {
   "cell_type": "code",
   "execution_count": 8,
   "metadata": {},
   "outputs": [
    {
     "data": {
      "text/plain": [
       "36"
      ]
     },
     "execution_count": 8,
     "metadata": {},
     "output_type": "execute_result"
    }
   ],
   "source": [
    "sum_of_cubes(3)"
   ]
  },
  {
   "cell_type": "code",
   "execution_count": null,
   "metadata": {},
   "outputs": [],
   "source": []
  }
 ],
 "metadata": {
  "kernelspec": {
   "display_name": "Python 3",
   "language": "python",
   "name": "python3"
  },
  "language_info": {
   "codemirror_mode": {
    "name": "ipython",
    "version": 3
   },
   "file_extension": ".py",
   "mimetype": "text/x-python",
   "name": "python",
   "nbconvert_exporter": "python",
   "pygments_lexer": "ipython3",
   "version": "3.8.5"
  }
 },
 "nbformat": 4,
 "nbformat_minor": 4
}
