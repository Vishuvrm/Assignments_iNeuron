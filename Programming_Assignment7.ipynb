{
 "cells": [
  {
   "cell_type": "markdown",
   "metadata": {},
   "source": [
    "# Que1. Write a Python Program to find sum of array?"
   ]
  },
  {
   "cell_type": "code",
   "execution_count": 1,
   "metadata": {},
   "outputs": [],
   "source": [
    "def sum_of_array(arr):\n",
    "    return sum(arr)"
   ]
  },
  {
   "cell_type": "code",
   "execution_count": 2,
   "metadata": {},
   "outputs": [],
   "source": [
    "arr = [1,2,3,4,5]"
   ]
  },
  {
   "cell_type": "code",
   "execution_count": 3,
   "metadata": {},
   "outputs": [
    {
     "data": {
      "text/plain": [
       "15"
      ]
     },
     "execution_count": 3,
     "metadata": {},
     "output_type": "execute_result"
    }
   ],
   "source": [
    "sum_of_array(arr)"
   ]
  },
  {
   "cell_type": "markdown",
   "metadata": {},
   "source": [
    "# Que2. Write a Python Program to find largest element in an array?"
   ]
  },
  {
   "cell_type": "code",
   "execution_count": 4,
   "metadata": {},
   "outputs": [],
   "source": [
    "arr = [1,2,3,5,4]\n",
    "\n",
    "def max_(arr):\n",
    "    result = arr[0]\n",
    "    for i in range(1, len(arr)):\n",
    "        if arr[i]>result:\n",
    "            result = arr[i]\n",
    "            \n",
    "    return result"
   ]
  },
  {
   "cell_type": "code",
   "execution_count": 5,
   "metadata": {},
   "outputs": [
    {
     "name": "stdout",
     "output_type": "stream",
     "text": [
      "Largest element in array [1, 2, 3, 5, 4] is: 5\n"
     ]
    }
   ],
   "source": [
    "print(f\"Largest element in array {arr} is:\", max_(arr))"
   ]
  },
  {
   "cell_type": "markdown",
   "metadata": {},
   "source": [
    "# Que3. Write a Python Program for array rotation?"
   ]
  },
  {
   "cell_type": "markdown",
   "metadata": {},
   "source": [
    "### Rotating an array is a process involving the shifting of the elements by n positions.\n",
    "\n",
    "### This shifting of elements to the left is called left rotation and shifting to the right is called right rotation.\n",
    "\n",
    "1. Left rotation\n",
    "\n",
    "    * Left Rotation of array [1,2,3,4,5] by 2 elements means that the 1st 2  elements will go to last and rest elements will come ahead.\n",
    "\n",
    "    * Thus, after left rotation by 2 elements, array [1,2,3,4,5] will become: [3,4,5,1,2]\n",
    "    \n",
    "2. Right rotation\n",
    "    * Right Rotation of array [1,2,3,4,5] by 2 elements means that the last 2  elements will go to beginning of the array and rest elements will come after it.\n",
    "    * Thus, after right rotation by 2 elements, array [1,2,3,4,5] will become: [4,5,1,2,3]"
   ]
  },
  {
   "cell_type": "code",
   "execution_count": 6,
   "metadata": {},
   "outputs": [],
   "source": [
    "arr = [1,2,3,4,5]\n",
    "\n",
    "def rotate_arr(arr:\"array\", n:\"Rotate by no. of elements\", rot:\"left or right\"=\"left\"):      \n",
    "    if rot==\"right\":\n",
    "        n = -n\n",
    "    \n",
    "    rotated_elements = arr[:n]\n",
    "    result = arr[n:]\n",
    "    \n",
    "    result.extend(rotated_elements)\n",
    "    return result"
   ]
  },
  {
   "cell_type": "code",
   "execution_count": 7,
   "metadata": {},
   "outputs": [
    {
     "data": {
      "text/plain": [
       "[4, 5, 6, 1, 2, 3]"
      ]
     },
     "execution_count": 7,
     "metadata": {},
     "output_type": "execute_result"
    }
   ],
   "source": [
    "arr = [1,2,3,4,5,6]\n",
    "\n",
    "rotate_arr(arr, 3, \"left\")"
   ]
  },
  {
   "cell_type": "code",
   "execution_count": 8,
   "metadata": {},
   "outputs": [
    {
     "data": {
      "text/plain": [
       "[4, 5, 6, 1, 2, 3]"
      ]
     },
     "execution_count": 8,
     "metadata": {},
     "output_type": "execute_result"
    }
   ],
   "source": [
    "rotate_arr(arr, 3, \"right\")"
   ]
  },
  {
   "cell_type": "markdown",
   "metadata": {},
   "source": [
    "# Que4. Write a Python Program to Split the array and add the first part to the end?"
   ]
  },
  {
   "cell_type": "code",
   "execution_count": 9,
   "metadata": {},
   "outputs": [],
   "source": [
    "arr = [\"Good\", \"Morning!\", \"Hi\", \"all,\"]"
   ]
  },
  {
   "cell_type": "code",
   "execution_count": 10,
   "metadata": {},
   "outputs": [],
   "source": [
    "def split(arr, part:\"What part of array you want to split and put to the end\"):\n",
    "    rotated_elements = arr[:part]\n",
    "    result = arr[part:]\n",
    "    \n",
    "    result.extend(rotated_elements)\n",
    "    return result"
   ]
  },
  {
   "cell_type": "code",
   "execution_count": 11,
   "metadata": {},
   "outputs": [
    {
     "data": {
      "text/plain": [
       "['Hi', 'all,', 'Good', 'Morning!']"
      ]
     },
     "execution_count": 11,
     "metadata": {},
     "output_type": "execute_result"
    }
   ],
   "source": [
    "split(arr, 2)"
   ]
  },
  {
   "cell_type": "markdown",
   "metadata": {},
   "source": [
    "# Que5. Write a Python Program to check if given array is Monotonic?\n",
    "\n",
    "### A monotonic array is an array where elements are either sorted in increasing order or in decreasing order"
   ]
  },
  {
   "cell_type": "code",
   "execution_count": 12,
   "metadata": {},
   "outputs": [],
   "source": [
    "def is_monotonic(arr):\n",
    "    is_asc = all([arr[i]<=arr[i+1] for i in range(len(arr)-1)])\n",
    "    is_desc = all([arr[i]>=arr[i+1] for i in range(len(arr)-1)])\n",
    "    \n",
    "    return is_asc or is_desc"
   ]
  },
  {
   "cell_type": "code",
   "execution_count": 13,
   "metadata": {},
   "outputs": [],
   "source": [
    "arrays = [1,2,3,4,5], [5,4,3,2,1],[1,1,2,2,3,3,4,5],[5,5,4,3,2,2,1],[1,2,3,5,4],[5,4,2,3,1]"
   ]
  },
  {
   "cell_type": "code",
   "execution_count": 14,
   "metadata": {},
   "outputs": [
    {
     "name": "stdout",
     "output_type": "stream",
     "text": [
      "[1, 2, 3, 4, 5] is monotonic: True\n",
      "[5, 4, 3, 2, 1] is monotonic: True\n",
      "[1, 1, 2, 2, 3, 3, 4, 5] is monotonic: True\n",
      "[5, 5, 4, 3, 2, 2, 1] is monotonic: True\n",
      "[1, 2, 3, 5, 4] is monotonic: False\n",
      "[5, 4, 2, 3, 1] is monotonic: False\n"
     ]
    }
   ],
   "source": [
    "for array in arrays:\n",
    "    print(f\"{array} is monotonic: {is_monotonic(array)}\")"
   ]
  },
  {
   "cell_type": "code",
   "execution_count": null,
   "metadata": {},
   "outputs": [],
   "source": []
  }
 ],
 "metadata": {
  "kernelspec": {
   "display_name": "Python 3",
   "language": "python",
   "name": "python3"
  },
  "language_info": {
   "codemirror_mode": {
    "name": "ipython",
    "version": 3
   },
   "file_extension": ".py",
   "mimetype": "text/x-python",
   "name": "python",
   "nbconvert_exporter": "python",
   "pygments_lexer": "ipython3",
   "version": "3.8.5"
  }
 },
 "nbformat": 4,
 "nbformat_minor": 4
}
