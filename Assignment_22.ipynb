{
 "cells": [
  {
   "cell_type": "markdown",
   "metadata": {},
   "source": [
    "# Que1. What is the result of the code, and explain?\n",
    "<pre>\n",
    "&gt;&gt;&gt; X = &#39;iNeuron&#39;\n",
    "&gt;&gt;&gt; def func():\n",
    "print(X)\n",
    "\n",
    "&gt;&gt;&gt; func()\n",
    "</pre>\n",
    "\n",
    "### Ans: The output of the above code is :\n",
    "      iNeuron\n",
    "      \n",
    "### Explanation:\n",
    "    We created a variable X and assigned it a string value \"iNeuron\".\n",
    "    \n",
    "    Then we created a function named func whose body contains a print statement, and it prints X, which is a global variable.\n",
    "    \n",
    "    Then we called the function func(), and the print statement in it's body is executed."
   ]
  },
  {
   "cell_type": "code",
   "execution_count": 1,
   "metadata": {},
   "outputs": [],
   "source": [
    "X = \"iNeuron\""
   ]
  },
  {
   "cell_type": "code",
   "execution_count": 2,
   "metadata": {},
   "outputs": [],
   "source": [
    "def func():\n",
    "    print(X)"
   ]
  },
  {
   "cell_type": "code",
   "execution_count": 3,
   "metadata": {},
   "outputs": [
    {
     "name": "stdout",
     "output_type": "stream",
     "text": [
      "iNeuron\n"
     ]
    }
   ],
   "source": [
    "func()"
   ]
  },
  {
   "cell_type": "markdown",
   "metadata": {},
   "source": [
    "# Que2. What is the result of the code, and explain?\n",
    "<pre>\n",
    "&gt;&gt;&gt; X = &#39;iNeuron&#39;\n",
    "&gt;&gt;&gt; def func():\n",
    "X = &#39;NI!&#39;\n",
    "\n",
    "&gt;&gt;&gt; func()\n",
    "&gt;&gt;&gt; print(X)\n",
    "</pre>\n",
    "\n",
    "### Ans: The above code will print: iNeuron to the console.\n",
    "\n",
    "### Explanation: \n",
    "        We declare a global variable X and assigned it the value \"iNeuron\".\n",
    "        \n",
    "        Then we created a function named func(), and its body contains an assignment statement:  X = \"NI!\"\n",
    "        In this case, X is a local variable inside the function func(). It is not the same X, which is outside the function.\n",
    "        \n",
    "        Now, we call the function func(). Its body gets executed, and the local variable X is assigned the value \"NI!\"\n",
    "        \n",
    "        Now, in the global scope, we execute a print statement: print(X). This X refers to the global X, which is still unchanged.\n",
    "        Thus, it prints iNeuron to the console."
   ]
  },
  {
   "cell_type": "code",
   "execution_count": 4,
   "metadata": {},
   "outputs": [],
   "source": [
    "X = \"iNeuron\"\n",
    "\n",
    "def func():\n",
    "    X = \"NI!\""
   ]
  },
  {
   "cell_type": "code",
   "execution_count": 5,
   "metadata": {},
   "outputs": [],
   "source": [
    "func()"
   ]
  },
  {
   "cell_type": "code",
   "execution_count": 6,
   "metadata": {},
   "outputs": [
    {
     "name": "stdout",
     "output_type": "stream",
     "text": [
      "iNeuron\n"
     ]
    }
   ],
   "source": [
    "print(X)"
   ]
  },
  {
   "cell_type": "markdown",
   "metadata": {},
   "source": [
    "# Que3. What does this code print, and why?\n",
    "\n",
    "<pre>\n",
    "&gt;&gt;&gt; X = &#39;iNeuron&#39;\n",
    "&gt;&gt;&gt; def func():\n",
    "X = &#39;NI&#39;\n",
    "print(X)\n",
    "\n",
    "&gt;&gt;&gt; func()\n",
    "&gt;&gt;&gt; print(X)\n",
    "</pre>"
   ]
  },
  {
   "cell_type": "markdown",
   "metadata": {},
   "source": [
    "### Ans: The above code will print following 2 things to the console:\n",
    "            NI\n",
    "            ineuron\n",
    "\n",
    "### Explanation:\n",
    "     We declare a global variable X and assigned it the value \"iNeuron\".\n",
    "\n",
    "    Then we created a function named func(), and its body contains an assignment statement:  X = \"NI!\"\n",
    "    and a print statement: print(X)\n",
    "    In this case, X is a local variable inside the function func(). It is not the same X, which is outside the function.\n",
    "\n",
    "    Now, we call the function func(). Its body gets executed, and the local variable X is assigned the value \"NI!\", and the print statement will print the value of local X variable to the console: NI\n",
    "\n",
    "    Now, in the global scope, we execute a print statement: print(X). This X refers to the global X, which is still unchanged.\n",
    "    Thus, it prints iNeuron to the console."
   ]
  },
  {
   "cell_type": "code",
   "execution_count": 7,
   "metadata": {},
   "outputs": [],
   "source": [
    "X = \"iNeuron\"\n",
    "\n",
    "def func():\n",
    "    X = \"NI\"\n",
    "    print(X)"
   ]
  },
  {
   "cell_type": "code",
   "execution_count": 8,
   "metadata": {},
   "outputs": [
    {
     "name": "stdout",
     "output_type": "stream",
     "text": [
      "NI\n"
     ]
    }
   ],
   "source": [
    "func()"
   ]
  },
  {
   "cell_type": "code",
   "execution_count": 9,
   "metadata": {},
   "outputs": [
    {
     "name": "stdout",
     "output_type": "stream",
     "text": [
      "iNeuron\n"
     ]
    }
   ],
   "source": [
    "print(X)"
   ]
  },
  {
   "cell_type": "markdown",
   "metadata": {},
   "source": [
    "# Que4. What output does this code produce? Why?\n",
    "\n",
    "<pre>\n",
    "&gt;&gt;&gt; X = &#39;iNeuron&#39;\n",
    "&gt;&gt;&gt; def func():\n",
    "global X\n",
    "X = &#39;NI&#39;\n",
    "\n",
    "&gt;&gt;&gt; func()\n",
    "&gt;&gt;&gt; print(X)\n",
    "</pre>"
   ]
  },
  {
   "cell_type": "markdown",
   "metadata": {},
   "source": [
    "### Ans: The above code will print the following to the console:\n",
    "        NI\n",
    "\n",
    "### Explanation:\n",
    "    We declare a global variable X and assigned it the value \"iNeuron\".\n",
    "\n",
    "    Then we created a function named func(), and its body contains 2 statements:  \n",
    "    global referencing statement: global X  => Ensures that the X inside the body of this function acts as the global X variable.\n",
    "    Assignment statement:  X = \"NI!\" => Assignes a new value \"NI\" to the global X variable.\n",
    "\n",
    "    In this case, X inside the function is the same global X, which is outside the function.\n",
    "\n",
    "    Now, we call the function func(). Its body gets executed, and the global variable X is assigned the value \"NI!\".\n",
    "\n",
    "    Now, in the global scope, we execute a print statement: print(X). This X refers to the global X, which is now changed.\n",
    "    Thus, it prints NI to the console."
   ]
  },
  {
   "cell_type": "code",
   "execution_count": 10,
   "metadata": {},
   "outputs": [],
   "source": [
    "X = \"iNeuron\"\n",
    "\n",
    "def func():\n",
    "    global X\n",
    "    X = \"NI\""
   ]
  },
  {
   "cell_type": "code",
   "execution_count": 11,
   "metadata": {},
   "outputs": [],
   "source": [
    "func()"
   ]
  },
  {
   "cell_type": "code",
   "execution_count": 12,
   "metadata": {},
   "outputs": [
    {
     "name": "stdout",
     "output_type": "stream",
     "text": [
      "NI\n"
     ]
    }
   ],
   "source": [
    "print(X)"
   ]
  },
  {
   "cell_type": "markdown",
   "metadata": {},
   "source": [
    "# Que5. What about this code—what’s the output, and why?\n",
    "\n",
    "<pre>\n",
    "&gt;&gt;&gt; X = &#39;iNeuron&#39;\n",
    "&gt;&gt;&gt; def func():\n",
    "        X = &#39;NI&#39;\n",
    "        def nested():\n",
    "            print(X)\n",
    "        nested()\n",
    "\n",
    "&gt;&gt;&gt; func()\n",
    "&gt;&gt;&gt; X\n",
    "</pre>"
   ]
  },
  {
   "cell_type": "markdown",
   "metadata": {},
   "source": [
    "### Ans: The above console has 2 outputs:\n",
    "           NI          \n",
    "           \"iNeuron\"\n",
    "\n",
    "### Explanation:\n",
    "    First we assign the global variable X with the value \"iNeuron\"\n",
    "    \n",
    "    Then we define a function called func()\n",
    "    This function has an assignment statement: X = \"NI\" (Here X is the local variable.)\n",
    "    \n",
    "    Then we define another function inside the function func() called nested\n",
    "            Within nested(), we have a print statement: print(X)\n",
    "            This X reresents X from the outer scope, i.e. this X refers to the X of the function func, and holds the value \"NI\"\n",
    "    \n",
    "    Then we call the inner function nested() inside the local scope of func(), but it will not get called until we call the outer function func().\n",
    "    \n",
    "    \n",
    "    Now, when we call the outermost function func(), then following things happen:\n",
    "        1. The local variable X is assigned the value \"NI\"\n",
    "        2. A function named nested is created inside the scope of the function func\n",
    "        3. The inner function nested is called. When this happens, following things happen:\n",
    "            a. The statement print(X) gets executes, and X is the reference variable which refers to the X variable present in the first outer scope to the function nest, which is the func scope. Thus it's value is \"NI\", hence first of all, following is printed to the console:\n",
    "            \n",
    "                        NI\n",
    "    \n",
    "    Next, we have simply X refereing to the variable X in the global scope, whose value is \"iNeuron\". Thus, when this statement is encounterd, the following is printed to the console:\n",
    "                        \n",
    "                        \"iNeuron\""
   ]
  },
  {
   "cell_type": "code",
   "execution_count": 15,
   "metadata": {},
   "outputs": [],
   "source": [
    "X = \"iNeuron\"\n",
    "\n",
    "def func():\n",
    "    X = \"NI\"\n",
    "    \n",
    "    def nested():\n",
    "        print(X)\n",
    "    \n",
    "    nested()"
   ]
  },
  {
   "cell_type": "code",
   "execution_count": 16,
   "metadata": {},
   "outputs": [
    {
     "name": "stdout",
     "output_type": "stream",
     "text": [
      "NI\n"
     ]
    },
    {
     "data": {
      "text/plain": [
       "'iNeuron'"
      ]
     },
     "execution_count": 16,
     "metadata": {},
     "output_type": "execute_result"
    }
   ],
   "source": [
    "func()\n",
    "X"
   ]
  },
  {
   "cell_type": "markdown",
   "metadata": {},
   "source": [
    "# Que6. How about this code: what is its output in Python 3, and explain?\n",
    "\n",
    "<pre>\n",
    "&gt;&gt;&gt; def func():\n",
    "        X = &#39;NI&#39;\n",
    "        def nested():\n",
    "            nonlocal X\n",
    "            X = &#39;Spam&#39;\n",
    "        nested()\n",
    "        print(X)\n",
    "\n",
    "&gt;&gt;&gt; func()\n",
    "</pre>"
   ]
  },
  {
   "cell_type": "markdown",
   "metadata": {},
   "source": [
    "### Ans: The output of the above code is:\n",
    "            Spam\n",
    "            \n",
    "### Explanation:\n",
    "        \n",
    "    Here in, we first define a function named func.\n",
    "    \n",
    "    Within func, we do the following:\n",
    "        1. we declare a local variable called X and assign it the value \"NI\"\n",
    "        2. Then we define a function called nested. In this function we did following:\n",
    "            a. First, we write a nonlocal variable refrencing statement => nonlocal X  => This statement means that X inside the body of nested function will refer to the variable X inside the nonlocal scope, i.e. X inside the local scope of function func. Thus X has value \"NI\"\n",
    "            b. The next stament is the assignment statement which assigns a new value to the nonlocal variable X: X = \"Spam\"\n",
    "        \n",
    "        3. Then we call the nested function insode the local scope of func.\n",
    "        4. Finally we print the value of X inside the localscope of func.\n",
    "    \n",
    "    \n",
    "    Now, when we call the function func(), the following things happen:\n",
    "        \n",
    "        1. A vriable called X is created and it holds the value \"NI\"\n",
    "        2. A function named nested is defined inside the local scope of func.\n",
    "        3. The nested() function is called, and following things happen inside nested function:\n",
    "            a. nonlocal X:  This statement is executed and it tells the python interpreter that X inside this function is nothing but the X from the nonlocal scope, i.e. scope of function func.\n",
    "            \n",
    "            b. Now, this X is assigned a new value \"Spam\"\n",
    "        \n",
    "        4. Now, a print statement is executed: print(X) \n",
    "           As we know that in step 3, the value of X is changed to \"Spam\", thus it will print the following to the console:\n",
    "                       \n",
    "                       Spam"
   ]
  },
  {
   "cell_type": "code",
   "execution_count": 20,
   "metadata": {},
   "outputs": [],
   "source": [
    "def func():\n",
    "    X = \"NI\"\n",
    "    def nested():\n",
    "        nonlocal X\n",
    "        X = \"Spam\"\n",
    "    \n",
    "    nested()\n",
    "    print(X)"
   ]
  },
  {
   "cell_type": "code",
   "execution_count": 21,
   "metadata": {},
   "outputs": [
    {
     "name": "stdout",
     "output_type": "stream",
     "text": [
      "Spam\n"
     ]
    }
   ],
   "source": [
    "func()"
   ]
  },
  {
   "cell_type": "code",
   "execution_count": null,
   "metadata": {},
   "outputs": [],
   "source": []
  }
 ],
 "metadata": {
  "kernelspec": {
   "display_name": "Python 3",
   "language": "python",
   "name": "python3"
  },
  "language_info": {
   "codemirror_mode": {
    "name": "ipython",
    "version": 3
   },
   "file_extension": ".py",
   "mimetype": "text/x-python",
   "name": "python",
   "nbconvert_exporter": "python",
   "pygments_lexer": "ipython3",
   "version": "3.8.5"
  }
 },
 "nbformat": 4,
 "nbformat_minor": 4
}
