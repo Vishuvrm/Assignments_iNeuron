{
 "cells": [
  {
   "cell_type": "markdown",
   "metadata": {},
   "source": [
    "# Que1. Write a Python program to find words which are greater than given length k?"
   ]
  },
  {
   "cell_type": "code",
   "execution_count": 1,
   "metadata": {},
   "outputs": [],
   "source": [
    "def find_with_length(arr, k:\"length\"):\n",
    "    return [i for i in arr if len(i)>k]"
   ]
  },
  {
   "cell_type": "code",
   "execution_count": 4,
   "metadata": {},
   "outputs": [
    {
     "data": {
      "text/plain": [
       "['hello', 'all', \"what's\", 'good', 'see', 'you']"
      ]
     },
     "execution_count": 4,
     "metadata": {},
     "output_type": "execute_result"
    }
   ],
   "source": [
    "find_with_length([\"hello\", \"all\", \"what's\", \"up\", \"good\", \"to\",\"see\",\"you\"],\n",
    "                k = 2)"
   ]
  },
  {
   "cell_type": "markdown",
   "metadata": {},
   "source": [
    "# Que2. Write a Python program for removing i-th character from a string?"
   ]
  },
  {
   "cell_type": "code",
   "execution_count": 22,
   "metadata": {},
   "outputs": [],
   "source": [
    "def remove_ith(s, i):\n",
    "    return s.replace(s[i], \"\", 1)"
   ]
  },
  {
   "cell_type": "code",
   "execution_count": 23,
   "metadata": {},
   "outputs": [
    {
     "data": {
      "text/plain": [
       "'Helloall! How are you?'"
      ]
     },
     "execution_count": 23,
     "metadata": {},
     "output_type": "execute_result"
    }
   ],
   "source": [
    "remove_ith(\"Hello all! How are you?\", i=5)"
   ]
  },
  {
   "cell_type": "markdown",
   "metadata": {},
   "source": [
    "# Que3. Write a Python program to split and join a string?"
   ]
  },
  {
   "cell_type": "code",
   "execution_count": 32,
   "metadata": {},
   "outputs": [],
   "source": [
    "def split_and_join(s:str, sep=\" \"):\n",
    "    print(\"string:\", s)\n",
    "    \n",
    "    split = s.split(sep)\n",
    "    print(\"splitted string:\", split)\n",
    "    \n",
    "    print(\"Joining the string again:\")\n",
    "    print(\"Joined string:\",sep.join(split))"
   ]
  },
  {
   "cell_type": "code",
   "execution_count": 34,
   "metadata": {},
   "outputs": [
    {
     "name": "stdout",
     "output_type": "stream",
     "text": [
      "string: Good to see you. How are you?\n",
      "splitted string: ['Good', 'to', 'see', 'you.', 'How', 'are', 'you?']\n",
      "Joining the string again:\n",
      "Joined string: Good to see you. How are you?\n"
     ]
    }
   ],
   "source": [
    "s = \"Good to see you. How are you?\"\n",
    "split_and_join(s, sep=\" \")"
   ]
  },
  {
   "cell_type": "code",
   "execution_count": 35,
   "metadata": {},
   "outputs": [
    {
     "name": "stdout",
     "output_type": "stream",
     "text": [
      "string: Good to see you. How are you?\n",
      "splitted string: ['Good to see you', ' How are you?']\n",
      "Joining the string again:\n",
      "Joined string: Good to see you. How are you?\n"
     ]
    }
   ],
   "source": [
    "s = \"Good to see you. How are you?\"\n",
    "split_and_join(s, sep=\".\")"
   ]
  },
  {
   "cell_type": "markdown",
   "metadata": {},
   "source": [
    "# Que4. Write a Python to check if a given string is binary string or not?"
   ]
  },
  {
   "cell_type": "markdown",
   "metadata": {},
   "source": [
    "If a given string has characters which are only 1 or 0, we call such strings as binary strings. If it has any other digit like 2 or 3 etc., we classify it as a non-binary string."
   ]
  },
  {
   "cell_type": "code",
   "execution_count": 50,
   "metadata": {},
   "outputs": [],
   "source": [
    "def is_bin(s):\n",
    "    binary = {'0','1'}\n",
    "    s_set = set(s)\n",
    "    \n",
    "    if s_set == binary or s_set=={'1'} or s_set=={'0'}:\n",
    "        return True\n",
    "    return False"
   ]
  },
  {
   "cell_type": "code",
   "execution_count": 51,
   "metadata": {},
   "outputs": [
    {
     "data": {
      "text/plain": [
       "True"
      ]
     },
     "execution_count": 51,
     "metadata": {},
     "output_type": "execute_result"
    }
   ],
   "source": [
    "is_bin(\"011001111010\")"
   ]
  },
  {
   "cell_type": "code",
   "execution_count": 52,
   "metadata": {},
   "outputs": [
    {
     "data": {
      "text/plain": [
       "True"
      ]
     },
     "execution_count": 52,
     "metadata": {},
     "output_type": "execute_result"
    }
   ],
   "source": [
    "is_bin(\"1111\")"
   ]
  },
  {
   "cell_type": "code",
   "execution_count": 53,
   "metadata": {},
   "outputs": [
    {
     "data": {
      "text/plain": [
       "True"
      ]
     },
     "execution_count": 53,
     "metadata": {},
     "output_type": "execute_result"
    }
   ],
   "source": [
    "is_bin(\"0000\")"
   ]
  },
  {
   "cell_type": "code",
   "execution_count": 54,
   "metadata": {},
   "outputs": [
    {
     "data": {
      "text/plain": [
       "False"
      ]
     },
     "execution_count": 54,
     "metadata": {},
     "output_type": "execute_result"
    }
   ],
   "source": [
    "is_bin(\"10015\")"
   ]
  },
  {
   "cell_type": "markdown",
   "metadata": {},
   "source": [
    "# Que5. Write a Python program to find uncommon words from two Strings?"
   ]
  },
  {
   "cell_type": "code",
   "execution_count": 63,
   "metadata": {},
   "outputs": [],
   "source": [
    "def find_uncommon(s1, s2):\n",
    "    set1 = set(s1.split())\n",
    "    set2 = set(s2.split())\n",
    "    \n",
    "    return set1.symmetric_difference(set2)\n",
    "    "
   ]
  },
  {
   "cell_type": "code",
   "execution_count": 64,
   "metadata": {},
   "outputs": [
    {
     "data": {
      "text/plain": [
       "{'all!', 'world!'}"
      ]
     },
     "execution_count": 64,
     "metadata": {},
     "output_type": "execute_result"
    }
   ],
   "source": [
    "find_uncommon(\"Hello world!\", \"Hello all!\")"
   ]
  },
  {
   "cell_type": "markdown",
   "metadata": {},
   "source": [
    "# Que6. Write a Python to find all duplicate characters in string?"
   ]
  },
  {
   "cell_type": "code",
   "execution_count": 67,
   "metadata": {},
   "outputs": [],
   "source": [
    "def find_dup(s):\n",
    "    set1 = set(s)\n",
    "    dup = {}\n",
    "    \n",
    "    for c in s:\n",
    "        if s.count(c) > 1:\n",
    "            dup[c] = s.count(c)\n",
    "            \n",
    "    return dup"
   ]
  },
  {
   "cell_type": "code",
   "execution_count": 68,
   "metadata": {},
   "outputs": [
    {
     "data": {
      "text/plain": [
       "{'l': 3, 'o': 2}"
      ]
     },
     "execution_count": 68,
     "metadata": {},
     "output_type": "execute_result"
    }
   ],
   "source": [
    "find_dup(\"Hello world!\")"
   ]
  },
  {
   "cell_type": "markdown",
   "metadata": {},
   "source": [
    "# Que7. Write a Python Program to check if a string contains any special character?"
   ]
  },
  {
   "cell_type": "code",
   "execution_count": 95,
   "metadata": {},
   "outputs": [],
   "source": [
    "def has_special_char(s):\n",
    "    import re\n",
    "    if re.search(r\"[\\W^_]\", s):\n",
    "        return True\n",
    "    return False"
   ]
  },
  {
   "cell_type": "code",
   "execution_count": 96,
   "metadata": {},
   "outputs": [
    {
     "data": {
      "text/plain": [
       "False"
      ]
     },
     "execution_count": 96,
     "metadata": {},
     "output_type": "execute_result"
    }
   ],
   "source": [
    "has_special_char(\"HelloWorld\")"
   ]
  },
  {
   "cell_type": "code",
   "execution_count": 97,
   "metadata": {},
   "outputs": [
    {
     "data": {
      "text/plain": [
       "True"
      ]
     },
     "execution_count": 97,
     "metadata": {},
     "output_type": "execute_result"
    }
   ],
   "source": [
    "has_special_char(\"Hello@all\")"
   ]
  },
  {
   "cell_type": "code",
   "execution_count": 98,
   "metadata": {},
   "outputs": [
    {
     "data": {
      "text/plain": [
       "True"
      ]
     },
     "execution_count": 98,
     "metadata": {},
     "output_type": "execute_result"
    }
   ],
   "source": [
    "has_special_char(\"Hello(ForAll)\")"
   ]
  },
  {
   "cell_type": "code",
   "execution_count": 99,
   "metadata": {},
   "outputs": [
    {
     "name": "stdout",
     "output_type": "stream",
     "text": [
      "[ is special: True\n",
      "@ is special: True\n",
      "_ is special: True\n",
      "! is special: True\n",
      "# is special: True\n",
      "$ is special: True\n",
      "% is special: True\n",
      "^ is special: True\n",
      "& is special: True\n",
      "* is special: True\n",
      "( is special: True\n",
      ") is special: True\n",
      "< is special: True\n",
      "> is special: True\n",
      "? is special: True\n",
      "/ is special: True\n",
      "| is special: True\n",
      "} is special: True\n",
      "{ is special: True\n",
      "~ is special: True\n",
      ": is special: True\n",
      "] is special: True\n"
     ]
    }
   ],
   "source": [
    "special_chars = \"[@_!#$%^&*()<>?/|}{~:]\"\n",
    "\n",
    "for c in special_chars:\n",
    "    print(f\"{c} is special: {has_special_char(c)}\")"
   ]
  },
  {
   "cell_type": "code",
   "execution_count": null,
   "metadata": {},
   "outputs": [],
   "source": []
  }
 ],
 "metadata": {
  "kernelspec": {
   "display_name": "Python 3",
   "language": "python",
   "name": "python3"
  },
  "language_info": {
   "codemirror_mode": {
    "name": "ipython",
    "version": 3
   },
   "file_extension": ".py",
   "mimetype": "text/x-python",
   "name": "python",
   "nbconvert_exporter": "python",
   "pygments_lexer": "ipython3",
   "version": "3.8.5"
  }
 },
 "nbformat": 4,
 "nbformat_minor": 4
}
