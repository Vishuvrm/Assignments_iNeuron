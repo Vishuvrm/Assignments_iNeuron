{
 "cells": [
  {
   "cell_type": "markdown",
   "metadata": {},
   "source": [
    "# Que1. What advantages do Excel spreadsheets have over CSV spreadsheets?"
   ]
  },
  {
   "cell_type": "code",
   "execution_count": null,
   "metadata": {},
   "outputs": [],
   "source": []
  },
  {
   "cell_type": "markdown",
   "metadata": {},
   "source": [
    "# Que2. What do you pass to csv.reader() and csv.writer() to create reader and writer objects?\n",
    "\n",
    "### Ans: We paas into them the file object, which is actually the _io.TextIOWrapper class object. \n",
    "### For example:"
   ]
  },
  {
   "cell_type": "code",
   "execution_count": 3,
   "metadata": {},
   "outputs": [],
   "source": [
    "import csv\n",
    "\n",
    "with open(\"xyz.csv\", \"w\", newline=\"\") as file:\n",
    "    writer = csv.writer(file)\n",
    "    writer.writerows([[\"Sno.\",\"Name\",\"Age\"],[1,\"Aman\",20],[2,\"Anuradha\",23]])"
   ]
  },
  {
   "cell_type": "code",
   "execution_count": 4,
   "metadata": {},
   "outputs": [
    {
     "name": "stdout",
     "output_type": "stream",
     "text": [
      "['Sno.', 'Name', 'Age']\n",
      "['1', 'Aman', '20']\n",
      "['2', 'Anuradha', '23']\n"
     ]
    }
   ],
   "source": [
    "with open(\"xyz.csv\", \"r\") as file:\n",
    "    reader = csv.reader(file)\n",
    "    \n",
    "    for rows in reader:\n",
    "        print(rows)"
   ]
  },
  {
   "cell_type": "markdown",
   "metadata": {},
   "source": [
    "# Que 3. What modes do File objects for reader and writer objects need to be opened in?\n",
    "\n",
    "### Ans: For reader, mode=\"r\" or read only mode and for writer, mode=\"w\" or write mode."
   ]
  },
  {
   "cell_type": "markdown",
   "metadata": {},
   "source": []
  },
  {
   "cell_type": "markdown",
   "metadata": {},
   "source": [
    "# Que4. What method takes a list argument and writes it to a CSV file?\n",
    "\n",
    "### Ans: writerows() method of csv.writer() function takes the list arguement and writes it to a CSV file.\n",
    "\n",
    "### For e.g."
   ]
  },
  {
   "cell_type": "code",
   "execution_count": 11,
   "metadata": {},
   "outputs": [],
   "source": [
    "import csv\n",
    "\n",
    "with open(\"xyz.csv\", \"w\", newline=\"\") as file:\n",
    "    writer = csv.writer(file)\n",
    "    writer.writerows([[\"Sno.\",\"Name\",\"Age\"],[1,\"Aman\",20],[2,\"Anuradha\",23]])"
   ]
  },
  {
   "cell_type": "markdown",
   "metadata": {},
   "source": []
  },
  {
   "cell_type": "markdown",
   "metadata": {},
   "source": [
    "# Que5. What do the keyword arguments delimiter and line terminator do?\n",
    "\n",
    "### Ans:\n",
    "1. delimiter = This arguement is used to set the delimiter value. It should be a single character value and it tells the python interpreter that that the elements of the csv file are separated by the delimiter value. By default it is comma (,).<br><br>\n",
    "2. lineterminator = It is used to set the line terminator value. By default it is the new line character(\"\\r\\n\"). Whenever the line_terminator value(which we set) is encountered in the csv file, the python interpreter will treat it as a line break, i.e. after that line_terminator value, new line starts.\n",
    "\n",
    "For e.g."
   ]
  },
  {
   "cell_type": "code",
   "execution_count": 41,
   "metadata": {},
   "outputs": [],
   "source": [
    "with open(\"xyz.csv\", \"w\",newline=\"\") as file:\n",
    "    writer = csv.writer(file, delimiter=\"\\t\", lineterminator=\"\\r?\")\n",
    "    writer.writerows([[\"Sno.\",\"Name\",\"Age\"],[1,\"Aman\",20],[2,\"Anuradha\",23]])    \n",
    "    "
   ]
  },
  {
   "cell_type": "markdown",
   "metadata": {},
   "source": [
    "The data in xyz.csv looks like this:\n",
    "<pre>\n",
    "Sno.\tName\tAge?1\tAman\t20?2\tAnuradha\t23?\n",
    "</pre>\n",
    "\n",
    "Clearly, we can see that the delimiter is \"\\t\" or tab space and every new line starts after \"?\". \n",
    "\n",
    "We can proove it by reading the file as follows:"
   ]
  },
  {
   "cell_type": "code",
   "execution_count": 43,
   "metadata": {},
   "outputs": [
    {
     "name": "stdout",
     "output_type": "stream",
     "text": [
      "['Sno.', 'Name', 'Age']\n",
      "['?1', 'Aman', '20']\n",
      "['?2', 'Anuradha', '23']\n",
      "['?']\n"
     ]
    }
   ],
   "source": [
    "import csv\n",
    "\n",
    "csv.register_dialect(\"modified\", delimiter=\"\\t\", lineterminator=\"?\")\n",
    "\n",
    "with open(\"xyz.csv\",\"r\") as file:\n",
    "    reader = csv.reader(file, dialect=\"modified\")\n",
    "    \n",
    "    for row in reader:\n",
    "        print(row)"
   ]
  },
  {
   "cell_type": "markdown",
   "metadata": {},
   "source": []
  },
  {
   "cell_type": "markdown",
   "metadata": {},
   "source": [
    "# Que6. What function takes a string of JSON data and returns a Python data structure?\n",
    "\n",
    "### Ans: loads() method of json module takes a string of Json data and returns a Python data structure.\n",
    "\n",
    "### For e.g."
   ]
  },
  {
   "cell_type": "code",
   "execution_count": 48,
   "metadata": {},
   "outputs": [
    {
     "name": "stdout",
     "output_type": "stream",
     "text": [
      "Json data: [{\"name\": \"Vishal\", \"Course\": \"DataScience\", \"Company\": \"iNeuron\"}]\n"
     ]
    }
   ],
   "source": [
    "import json\n",
    "\n",
    "data_str = [{\"name\":\"Vishal\",\"Course\":\"DataScience\",\"Company\":\"iNeuron\"}] # This is python list\n",
    "\n",
    "# Let's convert this python data structure to JSON string:\n",
    "json_encoded = json.dumps(data_str)\n",
    "print(\"Json data:\", json_encoded)"
   ]
  },
  {
   "cell_type": "code",
   "execution_count": 49,
   "metadata": {},
   "outputs": [
    {
     "name": "stdout",
     "output_type": "stream",
     "text": [
      "Python data_str: [{'name': 'Vishal', 'Course': 'DataScience', 'Company': 'iNeuron'}]\n"
     ]
    }
   ],
   "source": [
    "# Now, let's convert this json data to the python data structure\n",
    "json_decoded = json.loads(json_encoded)\n",
    "print(\"Python data_str:\", json_decoded)"
   ]
  },
  {
   "cell_type": "markdown",
   "metadata": {},
   "source": [
    "# Que7. What function takes a Python data structure and returns a string of JSON data?\n",
    "\n",
    "\n",
    "### Ans: loads() method of json module does that thing.\n",
    "\n",
    "### For e.g."
   ]
  },
  {
   "cell_type": "code",
   "execution_count": 50,
   "metadata": {},
   "outputs": [
    {
     "name": "stdout",
     "output_type": "stream",
     "text": [
      "Json data: [{\"name\": \"Vishal\", \"Course\": \"DataScience\", \"Company\": \"iNeuron\"}]\n"
     ]
    }
   ],
   "source": [
    "import json\n",
    "\n",
    "data_str = [{\"name\":\"Vishal\",\"Course\":\"DataScience\",\"Company\":\"iNeuron\"}] # This is a python list\n",
    "\n",
    "# Let's convert this python data structure to JSON string:\n",
    "json_encoded = json.dumps(data_str)\n",
    "print(\"Json data:\", json_encoded)"
   ]
  },
  {
   "cell_type": "code",
   "execution_count": null,
   "metadata": {},
   "outputs": [],
   "source": []
  }
 ],
 "metadata": {
  "kernelspec": {
   "display_name": "Python 3",
   "language": "python",
   "name": "python3"
  },
  "language_info": {
   "codemirror_mode": {
    "name": "ipython",
    "version": 3
   },
   "file_extension": ".py",
   "mimetype": "text/x-python",
   "name": "python",
   "nbconvert_exporter": "python",
   "pygments_lexer": "ipython3",
   "version": "3.8.5"
  }
 },
 "nbformat": 4,
 "nbformat_minor": 4
}
