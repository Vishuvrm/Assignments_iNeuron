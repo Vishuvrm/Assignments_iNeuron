{
 "cells": [
  {
   "cell_type": "markdown",
   "metadata": {},
   "source": [
    "# Que1. What are escape characters, and how do you use them?\n",
    "\n",
    "<h3> Ans: <br>Escape characters are the special characters in in the string which have special meaning, and they invokes an alternative interpretation of the following characters in a character sequence.<br><br>\n",
    "An escape character is used to insert those characters in the string which are illegal inside a string.<br><br>\n",
    "An escape character is just a \\ followed by the character you want to insert. <br><br>\n",
    "    <u>For example:</u></h3>\n",
    "\n",
    "* \\'  ==> For using single quote inside the sitring encolsed in single quote\n",
    "* \\\\  ==> For printing Backslash in the string\n",
    "* \\n  ==> For printing new line in the string\n",
    "* \\r  ==> Used for Carriage return\n",
    "* \\t  ==> For printing tab space in the string\n",
    "* \\b  ==> For printing backspace\n",
    "* \\f  ==> Form Feed\n",
    "* \\ooo ==> For printing octal value\n",
    "* \\xhh ==> Hex value\n",
    "\n",
    "## Let's see them practically:-"
   ]
  },
  {
   "cell_type": "code",
   "execution_count": 1,
   "metadata": {},
   "outputs": [
    {
     "name": "stdout",
     "output_type": "stream",
     "text": [
      "What's up!\n",
      "You are \"cool\"\n"
     ]
    }
   ],
   "source": [
    "# using single quote inside the string surrounded with single quotes:\n",
    "s = 'What\\'s up!'\n",
    "print(s)\n",
    "\n",
    "# using single quote inside the string surrounded with single quotes:\n",
    "s1 = \"You are \\\"cool\\\"\"\n",
    "print(s1)"
   ]
  },
  {
   "cell_type": "code",
   "execution_count": 2,
   "metadata": {},
   "outputs": [
    {
     "name": "stdout",
     "output_type": "stream",
     "text": [
      "Hello\n",
      "world\n"
     ]
    }
   ],
   "source": [
    "# Using \\n in the string.\n",
    "s2 = \"Hello\\nworld\"\n",
    "print(s2)"
   ]
  },
  {
   "cell_type": "code",
   "execution_count": 3,
   "metadata": {},
   "outputs": [
    {
     "name": "stdout",
     "output_type": "stream",
     "text": [
      "Hello\r",
      "world\n"
     ]
    }
   ],
   "source": [
    "# Using \\r in the string. => Prints only those character sequences which is after \\r\n",
    "s3 = \"Hello\\rworld\"\n",
    "print(s3)"
   ]
  },
  {
   "cell_type": "code",
   "execution_count": 4,
   "metadata": {},
   "outputs": [
    {
     "name": "stdout",
     "output_type": "stream",
     "text": [
      "Hello\tworld\n"
     ]
    }
   ],
   "source": [
    "# Using \\t in the string. => Prints tab space inside the string.\n",
    "s4 = \"Hello\\tworld\"\n",
    "print(s4)"
   ]
  },
  {
   "cell_type": "code",
   "execution_count": 5,
   "metadata": {},
   "outputs": [
    {
     "name": "stdout",
     "output_type": "stream",
     "text": [
      "hello\bworld\n"
     ]
    }
   ],
   "source": [
    "# Using \\b inside the string. => Used to print backspace in the string.\n",
    "s5 = \"hello\\bworld\"\n",
    "print(s5)"
   ]
  },
  {
   "cell_type": "code",
   "execution_count": 6,
   "metadata": {},
   "outputs": [
    {
     "name": "stdout",
     "output_type": "stream",
     "text": [
      "Hello\f",
      "world\n"
     ]
    }
   ],
   "source": [
    "# Uing \\f inside the string.\n",
    "s6 = \"Hello\\fworld\"\n",
    "print(s6)"
   ]
  },
  {
   "cell_type": "code",
   "execution_count": 7,
   "metadata": {},
   "outputs": [
    {
     "name": "stdout",
     "output_type": "stream",
     "text": [
      "Hello\n"
     ]
    }
   ],
   "source": [
    "# Using \\ooo in the string => Used to print the string values from the octal value.\n",
    "s7 = \"\\110\\145\\154\\154\\157\"\n",
    "print(s7)"
   ]
  },
  {
   "cell_type": "code",
   "execution_count": 8,
   "metadata": {},
   "outputs": [
    {
     "name": "stdout",
     "output_type": "stream",
     "text": [
      "Hello\n"
     ]
    }
   ],
   "source": [
    "# Using \\xhh inside the string: Used to print the staring values from the hexa-decimal values\n",
    "s8 = \"\\x48\\x65\\x6c\\x6c\\x6f\"\n",
    "print(s8)"
   ]
  },
  {
   "cell_type": "markdown",
   "metadata": {},
   "source": [
    "# Que2. What do the escape characters n and t stand for?\n",
    "\n",
    "### Ans: \\n stands for new line character and \\t stands for tab space."
   ]
  },
  {
   "cell_type": "code",
   "execution_count": 9,
   "metadata": {},
   "outputs": [
    {
     "name": "stdout",
     "output_type": "stream",
     "text": [
      "New line: Hello\n",
      "world\n",
      "Tab space: Hello\tWorld\n"
     ]
    }
   ],
   "source": [
    "# \\n\n",
    "print(\"New line: Hello\\nworld\")\n",
    "\n",
    "# \\t\n",
    "print(\"Tab space: Hello\\tWorld\")"
   ]
  },
  {
   "cell_type": "markdown",
   "metadata": {},
   "source": [
    "# Que3. What is the way to include backslash characters in a string?\n",
    "\n",
    "### Ans: Use double backslash inside the string: \\\\\\\\"
   ]
  },
  {
   "cell_type": "code",
   "execution_count": 10,
   "metadata": {},
   "outputs": [
    {
     "name": "stdout",
     "output_type": "stream",
     "text": [
      "Hello\\world\n"
     ]
    }
   ],
   "source": [
    "s = \"Hello\\\\world\"\n",
    "print(s)"
   ]
  },
  {
   "cell_type": "markdown",
   "metadata": {},
   "source": [
    "# Que4. The string &quot;Howl&#39;s Moving Castle&quot; is a correct value. Why isn&#39;t the single quote character in the word Howl&#39;s not escaped a problem?\n",
    "\n",
    "### Ans: Single quote( ' ) is not a problem because in \"Howl's Moving Castle\" the string is enclosed in double quotes, which is a valid syntax, thus the compiler doesn't gets confused between the enclosing double quotes( \" ), and the inner single quote( ' )"
   ]
  },
  {
   "cell_type": "markdown",
   "metadata": {},
   "source": [
    "# Que5. How do you write a string of newlines if you don&#39;t want to use the n character?"
   ]
  },
  {
   "cell_type": "code",
   "execution_count": 11,
   "metadata": {},
   "outputs": [
    {
     "name": "stdout",
     "output_type": "stream",
     "text": [
      "\n",
      "hello world!\n",
      "Good to see you again.\n",
      "I am very excited!\n",
      "\n"
     ]
    }
   ],
   "source": [
    "# We can use multiline strings as:\n",
    "s = \"\"\"\n",
    "hello world!\n",
    "Good to see you again.\n",
    "I am very excited!\n",
    "\"\"\"\n",
    "print(s)"
   ]
  },
  {
   "cell_type": "markdown",
   "metadata": {},
   "source": [
    "<h1> Que6. What are the values of the given expressions?<br><br>\n",
    "&#39;Hello, world!&#39;[1]<br>\n",
    "&#39;Hello, world!&#39;[0:5]<br>\n",
    "&#39;Hello, world!&#39;[:5]<br>\n",
    "&#39;Hello, world!&#39;[3:]\n",
    "</h1>\n",
    "\n",
    "\n",
    "<h3> Ans:<br><br>\n",
    "&#39;Hello, world!&#39;[1] ==> 'e'<br>\n",
    "&#39;Hello, world!&#39;[0:5] ==> 'Hello'<br>\n",
    "&#39;Hello, world!&#39;[:5] ==> 'Hello'<br>\n",
    "&#39;Hello, world!&#39;[3:] ==> 'lo, world!'\n",
    "</h3>"
   ]
  },
  {
   "cell_type": "code",
   "execution_count": 12,
   "metadata": {},
   "outputs": [
    {
     "name": "stdout",
     "output_type": "stream",
     "text": [
      "e\n",
      "Hello\n",
      "Hello\n",
      "lo, world!\n"
     ]
    }
   ],
   "source": [
    "print(\"Hello, world!\"[1])\n",
    "print('Hello, world!'[0:5])\n",
    "print('Hello, world!'[:5])\n",
    "print('Hello, world!'[3:])"
   ]
  },
  {
   "cell_type": "markdown",
   "metadata": {},
   "source": [
    "<h1> Que7. What are the values of the following expressions?<br><br>\n",
    "&#39;Hello&#39;.upper()<br>\n",
    "&#39;Hello&#39;.upper().isupper()<br>\n",
    "&#39;Hello&#39;.upper().lower()<br>\n",
    "</h1>\n",
    "\n",
    "<h3>\n",
    "Ans:\n",
    "<br><br>\n",
    "&#39;Hello&#39;.upper() ==> 'HELLO'<br>\n",
    "&#39;Hello&#39;.upper().isupper() ==> True<br>\n",
    "&#39;Hello&#39;.upper().lower() ==> 'hello'<br>\n",
    "</h3>"
   ]
  },
  {
   "cell_type": "code",
   "execution_count": 13,
   "metadata": {},
   "outputs": [
    {
     "name": "stdout",
     "output_type": "stream",
     "text": [
      "HELLO\n",
      "True\n",
      "hello\n"
     ]
    }
   ],
   "source": [
    "print('Hello'.upper())\n",
    "print('Hello'.upper().isupper())\n",
    "print('Hello'.upper().lower())"
   ]
  },
  {
   "cell_type": "markdown",
   "metadata": {},
   "source": [
    "<h1> Que8. What are the values of the following expressions?<br><br>\n",
    "1) &#39;Remember, remember, the fifth of July.&#39;.split() <br><br>\n",
    "2) &#39;-&#39;.join(&#39;There can only one.&#39;.split()) </h1>\n",
    "\n",
    "<h3>\n",
    "Ans: <br><br>    \n",
    "1) &#39;Remember, remember, the fifth of July.&#39;.split() ==> ['Remember,', 'remember,', 'the', 'fifth', 'of', 'July.']<br><br>\n",
    "2) &#39;-&#39;.join(&#39;There can only one.&#39;.split()) ==> There-can-only-one.\n",
    "</h3>"
   ]
  },
  {
   "cell_type": "code",
   "execution_count": 14,
   "metadata": {},
   "outputs": [
    {
     "name": "stdout",
     "output_type": "stream",
     "text": [
      "['Remember,', 'remember,', 'the', 'fifth', 'of', 'July.']\n"
     ]
    }
   ],
   "source": [
    "print( 'Remember, remember, the fifth of July.'.split())"
   ]
  },
  {
   "cell_type": "code",
   "execution_count": 15,
   "metadata": {},
   "outputs": [
    {
     "name": "stdout",
     "output_type": "stream",
     "text": [
      "There-can-only-one.\n"
     ]
    }
   ],
   "source": [
    "print('-'.join('There can only one.'.split()))"
   ]
  },
  {
   "cell_type": "markdown",
   "metadata": {},
   "source": [
    "# Que9. What are the methods for right-justifying, left-justifying, and centering a string?\n",
    "\n",
    "<h3>Ans:<br><br> \n",
    " 1) right-justifying ==> rjust()<br>\n",
    " 2) left-justified ==> ljust()<br>\n",
    " 3) centering ==> center()\n",
    "</h3>"
   ]
  },
  {
   "cell_type": "code",
   "execution_count": 16,
   "metadata": {},
   "outputs": [
    {
     "name": "stdout",
     "output_type": "stream",
     "text": [
      "Right justified string: **********___Hello___\n",
      "\n",
      "Left justified string:   ___Hello___**********\n",
      "\n",
      "Centered string:       *****___Hello___*****\n"
     ]
    }
   ],
   "source": [
    "s = \"___Hello___\"\n",
    "\n",
    "# Right justifying the string.\n",
    "print(\"Right justified string:\",s.rjust(21,'*'))\n",
    "\n",
    "# Left justified string:\n",
    "print(\"\\nLeft justified string:  \",s.ljust(21,'*'))\n",
    "\n",
    "# For centring the string:\n",
    "print(\"\\nCentered string:      \",s.center(21,'*'))\n",
    "\n"
   ]
  },
  {
   "cell_type": "markdown",
   "metadata": {},
   "source": [
    "# Que10. What is the best way to remove whitespace characters from the start or end?\n",
    "\n",
    "### Ans: From start, use the inbuilt string method lstrip(), and for removing space from end, use the inbuilt string method rstrip()."
   ]
  },
  {
   "cell_type": "code",
   "execution_count": 17,
   "metadata": {},
   "outputs": [
    {
     "name": "stdout",
     "output_type": "stream",
     "text": [
      "Original string:\n",
      "     Hello world!    How are you?   \n",
      "\n",
      "Removing white spaces from start:\n",
      " Hello world!    How are you?   \n",
      "\n",
      " Removing white spaces from the end:\n",
      "     Hello world!    How are you?\n"
     ]
    }
   ],
   "source": [
    "s = \"    Hello world!    How are you?   \"\n",
    "print(\"Original string:\\n\",s)\n",
    "\n",
    "# Removing white spaces from start\n",
    "print(\"\\nRemoving white spaces from start:\\n\",s.lstrip())\n",
    "\n",
    "# Removing white spaces from end\n",
    "print(\"\\n Removing white spaces from the end:\\n\",s.rstrip())"
   ]
  },
  {
   "cell_type": "code",
   "execution_count": null,
   "metadata": {},
   "outputs": [],
   "source": []
  }
 ],
 "metadata": {
  "kernelspec": {
   "display_name": "Python 3",
   "language": "python",
   "name": "python3"
  },
  "language_info": {
   "codemirror_mode": {
    "name": "ipython",
    "version": 3
   },
   "file_extension": ".py",
   "mimetype": "text/x-python",
   "name": "python",
   "nbconvert_exporter": "python",
   "pygments_lexer": "ipython3",
   "version": "3.8.5"
  }
 },
 "nbformat": 4,
 "nbformat_minor": 4
}
