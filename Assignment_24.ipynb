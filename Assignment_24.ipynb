{
 "cells": [
  {
   "cell_type": "markdown",
   "metadata": {},
   "source": [
    "# Que1. What is the relationship between def statements and lambda expressions"
   ]
  },
  {
   "cell_type": "markdown",
   "metadata": {},
   "source": [
    "### Ans: Both def statements and lambda expressions are used to declare functions in python. The def statement tell the python interpreter that it is a function declaration with the function name written after def keyword and the function body as the indented portion of code, whereas the lambda keyword in lambda expressions tell python interpreter that anything written after the lambda keyword in the same line is the body part of the same lambda expression.\n",
    "### Both types of functions work in the similar way, i.e. they execute their body content only when they are called.\n",
    "\n",
    "### Although similar in functionality, there are some differences. These are:\n",
    "1. The def keyword is used to create function object and bind it to a name, where as the lambda expression returns a function object with no name, therefore lambda functions are also called anonymous functions.\n",
    "\n",
    "2. The functions made with def keyword, once executed, doesn't return anything until called, whereas the lambda expression returns the function object when it is executed without even being being called.\n",
    "\n",
    "2. The functions made with def keyword can be very complex and contains a separate return statement in its body to return some value, whereas the lambda function can only have a single line expression in it body, which evaluates to its return value"
   ]
  },
  {
   "cell_type": "markdown",
   "metadata": {},
   "source": [
    "# Que2. What is the benefit of lambda?"
   ]
  },
  {
   "cell_type": "markdown",
   "metadata": {},
   "source": [
    "### Ans: Lambda expressions are mostly used when we want to use very simple functions to be passed as arguement of some other functions or class, i.e. they are mostly used as inline functions. \n",
    "\n",
    "### The main benifit of using lambda functions as inline functions is that it makes the code more compact and readable"
   ]
  },
  {
   "cell_type": "markdown",
   "metadata": {},
   "source": [
    "# Que3. Compare and contrast map, filter, and reduce.\n",
    "\n",
    "### Ans:\n",
    "<b>map:</b> This is the built-in function in python which is used to apply some function (passed as the 1st arguement) to each element of the iterable(passed as the 2nd arguement), and returns a generator.\n",
    "\n",
    "For e.g."
   ]
  },
  {
   "cell_type": "code",
   "execution_count": 2,
   "metadata": {},
   "outputs": [
    {
     "data": {
      "text/plain": [
       "[1, 4, 9, 16]"
      ]
     },
     "execution_count": 2,
     "metadata": {},
     "output_type": "execute_result"
    }
   ],
   "source": [
    "# Apply square to each element of list using map\n",
    "list(map(lambda x: x**2, [1,2,3,4]))"
   ]
  },
  {
   "cell_type": "markdown",
   "metadata": {},
   "source": [
    "<b>filter:</b> This is another built-in function in python and is used to filter elements from an iterable (passed as the 2nd arguement) based on the boolean value returned from the function passed as the 1st arguement.\n",
    "\n",
    "For e.g."
   ]
  },
  {
   "cell_type": "code",
   "execution_count": 3,
   "metadata": {},
   "outputs": [
    {
     "data": {
      "text/plain": [
       "[2, 4, 6, 8]"
      ]
     },
     "execution_count": 3,
     "metadata": {},
     "output_type": "execute_result"
    }
   ],
   "source": [
    "# Filter all the even numbers from a list\n",
    "list(filter(lambda x: x%2==0, [1,2,3,4,5,6,7,8]))"
   ]
  },
  {
   "cell_type": "markdown",
   "metadata": {},
   "source": [
    "<b>reduce:</b> This is another function of the built-in module called functools in python which reduces the iterable (passed as the 2nd arguement) to a single value based on the function passed (as the 1st arguement) and returns that value.\n",
    "\n",
    "For e.g."
   ]
  },
  {
   "cell_type": "code",
   "execution_count": 5,
   "metadata": {},
   "outputs": [],
   "source": [
    "from functools import reduce"
   ]
  },
  {
   "cell_type": "code",
   "execution_count": 6,
   "metadata": {},
   "outputs": [
    {
     "data": {
      "text/plain": [
       "15"
      ]
     },
     "execution_count": 6,
     "metadata": {},
     "output_type": "execute_result"
    }
   ],
   "source": [
    "# Find the sum of elements using reduce\n",
    "reduce(lambda x,y: x+y, [1,2,3,4,5])"
   ]
  },
  {
   "cell_type": "markdown",
   "metadata": {},
   "source": [
    "# Que4. What are function annotations, and how are they used?"
   ]
  },
  {
   "cell_type": "markdown",
   "metadata": {},
   "source": [
    "### Ans: Function annotations are arbitrary python expressions that are associated with various part of functions and are evaluated only at compile time and have no life in python's runtime environment.\n",
    "\n",
    "### Python doesn't attach any meaning to these annotations, however they take life when interpreted by some third party libraries, for e.g. mypy\n",
    "\n",
    "### Apart from these features, it also provides documentation level aid to the users so that they get more clarity as which argument is meant for what purpose, and what does the function tends to return.\n",
    "\n",
    "### For e.g."
   ]
  },
  {
   "cell_type": "code",
   "execution_count": 8,
   "metadata": {},
   "outputs": [],
   "source": [
    "def division(n:\"Numerator\", d:\"denominator\")->\"Returns n/d\":\n",
    "    return n/d"
   ]
  },
  {
   "cell_type": "code",
   "execution_count": 9,
   "metadata": {},
   "outputs": [
    {
     "name": "stdout",
     "output_type": "stream",
     "text": [
      "Help on function division in module __main__:\n",
      "\n",
      "division(n: 'Numerator', d: 'denominator') -> 'Returns n/d'\n",
      "\n"
     ]
    }
   ],
   "source": [
    "help(division)"
   ]
  },
  {
   "cell_type": "code",
   "execution_count": 10,
   "metadata": {},
   "outputs": [
    {
     "data": {
      "text/plain": [
       "2.0"
      ]
     },
     "execution_count": 10,
     "metadata": {},
     "output_type": "execute_result"
    }
   ],
   "source": [
    "# Now, we know from the documentation that n means numerator and d means denominator, so if we want 10/5, then\n",
    "division(10,5)"
   ]
  },
  {
   "cell_type": "markdown",
   "metadata": {},
   "source": [
    "# Que5. What are recursive functions, and how are they used?"
   ]
  },
  {
   "cell_type": "markdown",
   "metadata": {},
   "source": [
    "### Ans: Recursive function is a function which uses its own previous version by calling itself repeatedly from within itself.\n",
    "\n",
    "### For e.g."
   ]
  },
  {
   "cell_type": "code",
   "execution_count": 3,
   "metadata": {},
   "outputs": [],
   "source": [
    "def count_till(start:\"Start from\", end:\"end till\", inc:\"increment\"=1)->\"Print all the numbers from start to end\":\n",
    "    if start == end:\n",
    "        print(end)\n",
    "        return\n",
    "    elif start > end:\n",
    "        return\n",
    "    print(start)\n",
    "    start += inc\n",
    "    count_till(start, end, inc)"
   ]
  },
  {
   "cell_type": "code",
   "execution_count": 5,
   "metadata": {},
   "outputs": [
    {
     "name": "stdout",
     "output_type": "stream",
     "text": [
      "1\n",
      "4\n",
      "7\n",
      "10\n"
     ]
    }
   ],
   "source": [
    "count_till(1, 10, 3)"
   ]
  },
  {
   "cell_type": "markdown",
   "metadata": {},
   "source": [
    "# Que6. What are some general design guidelines for coding functions?"
   ]
  },
  {
   "cell_type": "markdown",
   "metadata": {},
   "source": [
    "### Ans: Some design guidelines for writing coding functions in python are as follows:\n",
    "1. **Indentation:** It is also known as 4 space rule. It helps to know which code belongs to which function. The function body is always indented by 1 level w.r.t. the function declaration statement.\n",
    "\n",
    "2. **Naming Conventions:** According to PEP8, it is a good practice to choose the name for the function which makes some sense w.r.t. the context. As a function name, you have it as:\n",
    "    * Of 1 letter, but it should be in lower case\n",
    "    * Of multiple letters, but all in smaller case\n",
    "    * Can consists of letters (in lower case) and digits, but shouldn't start with a digit.\n",
    "    * Can contain any number of words (all in lower case) separated by underscores\n",
    "    * Can start with 1 or more underscores\n",
    "    * Can contain any number of underscores in-between words.\n",
    "    * Shouldn't be a keyword.\n",
    "    * For a function name with single character, the name shouldn't be an identifier which may lead to confusion, for e.g. letter O and zero (0) or lowercase L (l) and upper case i (I) etc.\n",
    "\n",
    "3. **Document String:** Also known as doc strings. This doc string is very important in any function as it helps users to understand the functionality of that function and how to use that function. Rules for writing doc strings are:\n",
    "    * Firstly the quotation used for documenting a block of code is done in triple quotes\n",
    "    * You can also use single quote or double quotes if the doc string is of just one line, however, if multiple strings in single/double quotes are written one after another, then only the first string will be considered as the doc string, and rest are ignored.\n",
    "    * Doc strings are always written at the beginning of the function body.\n",
    "\n",
    "4. We have to use UTF-8 or ASCII encoding for python coding in general as it is the default encoding which is meant for international environments.\n",
    "\n",
    "5. When writing the parameters, you should have a habit of giving 1 space after each comma, not before a comma. Also, you should give 1 space around the operators.\n",
    "\n",
    "6. It is better if you provide function annotations. This improves  the user experience a lot."
   ]
  },
  {
   "cell_type": "code",
   "execution_count": null,
   "metadata": {},
   "outputs": [],
   "source": []
  },
  {
   "cell_type": "markdown",
   "metadata": {},
   "source": [
    "# Que7. Name three or more ways that functions can communicate results to a caller.\n",
    "\n",
    "### Ans: Function can communicate results to a caller in the following ways:\n",
    "1. Using the return statement.\n",
    "2. Using the print statement\n",
    "3. By logging to console\n",
    "4. By logging to some file"
   ]
  },
  {
   "cell_type": "code",
   "execution_count": null,
   "metadata": {},
   "outputs": [],
   "source": []
  }
 ],
 "metadata": {
  "kernelspec": {
   "display_name": "Python 3",
   "language": "python",
   "name": "python3"
  },
  "language_info": {
   "codemirror_mode": {
    "name": "ipython",
    "version": 3
   },
   "file_extension": ".py",
   "mimetype": "text/x-python",
   "name": "python",
   "nbconvert_exporter": "python",
   "pygments_lexer": "ipython3",
   "version": "3.8.5"
  }
 },
 "nbformat": 4,
 "nbformat_minor": 4
}
