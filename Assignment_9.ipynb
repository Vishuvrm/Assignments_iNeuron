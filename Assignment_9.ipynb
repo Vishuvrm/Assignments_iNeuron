{
 "cells": [
  {
   "cell_type": "markdown",
   "metadata": {},
   "source": [
    "# Que1. To what does a relative path refer?\n",
    "\n",
    "### Ans: Relative path refers to the path from the Current Working Directory (CWD).\n",
    "\n",
    "### For e.g."
   ]
  },
  {
   "cell_type": "code",
   "execution_count": 1,
   "metadata": {},
   "outputs": [],
   "source": [
    "import os"
   ]
  },
  {
   "cell_type": "code",
   "execution_count": 2,
   "metadata": {},
   "outputs": [
    {
     "data": {
      "text/plain": [
       "'C:\\\\Users\\\\vishu\\\\Desktop\\\\Python assignments basic\\\\Python conceptual'"
      ]
     },
     "execution_count": 2,
     "metadata": {},
     "output_type": "execute_result"
    }
   ],
   "source": [
    "# Below is the absolute path for the current working directory\n",
    "abs_path = os.path.abspath(\".\")\n",
    "abs_path"
   ]
  },
  {
   "cell_type": "code",
   "execution_count": 3,
   "metadata": {},
   "outputs": [
    {
     "data": {
      "text/plain": [
       "'..\\\\Python conceptual'"
      ]
     },
     "execution_count": 3,
     "metadata": {},
     "output_type": "execute_result"
    }
   ],
   "source": [
    "# Now, let's find the relative path.\n",
    "rel_path = (os.path.relpath(\"Python conceptual\", \"Python assignments basic\"))\n",
    "\n",
    "# This will return the relative file path to \"Python conceptual\" from the directory \"Python assignments\"\n",
    "# Notice the 2 dots .. at the startng of the relative path is refering to \"Python assignments basic\" directory, whose position \n",
    "# relative to PWD, or Python conceptual is one level above, which is represented by two dots ..\n",
    "rel_path"
   ]
  },
  {
   "cell_type": "code",
   "execution_count": 4,
   "metadata": {},
   "outputs": [
    {
     "data": {
      "text/plain": [
       "'C:\\\\Users\\\\vishu\\\\Desktop\\\\Python assignments basic\\\\Python conceptual'"
      ]
     },
     "execution_count": 4,
     "metadata": {},
     "output_type": "execute_result"
    }
   ],
   "source": [
    "# If we put this relative path into the abspath function, it will return the absolute path\n",
    "os.path.abspath(rel_path)"
   ]
  },
  {
   "cell_type": "markdown",
   "metadata": {},
   "source": [
    "# Que2. What does an absolute path start with your operating system?\n",
    "\n",
    "### Ans: Since I have windows operating system, thus the absolute path starts from C:/\n",
    "### For e.g."
   ]
  },
  {
   "cell_type": "code",
   "execution_count": 5,
   "metadata": {},
   "outputs": [],
   "source": [
    "import os,platform"
   ]
  },
  {
   "cell_type": "code",
   "execution_count": 6,
   "metadata": {},
   "outputs": [
    {
     "name": "stdout",
     "output_type": "stream",
     "text": [
      "Operating system name: nt\n",
      "Platform name: Windows\n"
     ]
    }
   ],
   "source": [
    "print(\"Operating system name:\", os.name)\n",
    "print(\"Platform name:\", platform.system())"
   ]
  },
  {
   "cell_type": "code",
   "execution_count": 7,
   "metadata": {},
   "outputs": [
    {
     "name": "stdout",
     "output_type": "stream",
     "text": [
      "Absolute path for CWD:\n",
      "C:\\Users\\vishu\\Desktop\\Python assignments basic\\Python conceptual\n"
     ]
    }
   ],
   "source": [
    "print(f\"Absolute path for CWD:\\n{os.path.abspath('.')}\")"
   ]
  },
  {
   "cell_type": "markdown",
   "metadata": {},
   "source": [
    "# Que3. What do the functions os.getcwd() and os.chdir() do?\n",
    "\n",
    "<h3>Ans:<br><br>\n",
    "    os.getcwd() => It will give the current working directory<br><br>\n",
    "    os.chdir() => It will change the current working directory according to the path givn as its arguement<br><br><br>\n",
    "    For e.g.\n",
    "</h3>"
   ]
  },
  {
   "cell_type": "code",
   "execution_count": 8,
   "metadata": {},
   "outputs": [
    {
     "data": {
      "text/plain": [
       "'C:\\\\Users\\\\vishu\\\\Desktop\\\\Python assignments basic\\\\Python conceptual'"
      ]
     },
     "execution_count": 8,
     "metadata": {},
     "output_type": "execute_result"
    }
   ],
   "source": [
    "cwd = os.getcwd()\n",
    "cwd"
   ]
  },
  {
   "cell_type": "code",
   "execution_count": 9,
   "metadata": {},
   "outputs": [
    {
     "data": {
      "text/plain": [
       "['.ipynb_checkpoints',\n",
       " 'Assignment_1.ipynb',\n",
       " 'Assignment_2.ipynb',\n",
       " 'Assignment_3.ipynb',\n",
       " 'Assignment_4.ipynb',\n",
       " 'Assignment_5.ipynb',\n",
       " 'Assignment_6.ipynb',\n",
       " 'Assignment_7.ipynb',\n",
       " 'Assignment_8.ipynb',\n",
       " 'Assignment_9.ipynb',\n",
       " 'RegEx.ipynb',\n",
       " 'Test folder',\n",
       " 'xyz_lectures.ipynb']"
      ]
     },
     "execution_count": 9,
     "metadata": {},
     "output_type": "execute_result"
    }
   ],
   "source": [
    "os.listdir()"
   ]
  },
  {
   "cell_type": "code",
   "execution_count": 10,
   "metadata": {},
   "outputs": [
    {
     "data": {
      "text/plain": [
       "'C:\\\\Users\\\\vishu\\\\Desktop\\\\Python assignments basic\\\\Python conceptual\\\\Test folder'"
      ]
     },
     "execution_count": 10,
     "metadata": {},
     "output_type": "execute_result"
    }
   ],
   "source": [
    "new_abs_path = os.path.join(cwd, \"Test folder\")\n",
    "new_abs_path"
   ]
  },
  {
   "cell_type": "code",
   "execution_count": 11,
   "metadata": {},
   "outputs": [],
   "source": [
    "os.chdir(new_abs_path)"
   ]
  },
  {
   "cell_type": "code",
   "execution_count": 12,
   "metadata": {},
   "outputs": [
    {
     "data": {
      "text/plain": [
       "'C:\\\\Users\\\\vishu\\\\Desktop\\\\Python assignments basic\\\\Python conceptual\\\\Test folder'"
      ]
     },
     "execution_count": 12,
     "metadata": {},
     "output_type": "execute_result"
    }
   ],
   "source": [
    "os.getcwd()"
   ]
  },
  {
   "cell_type": "markdown",
   "metadata": {},
   "source": [
    "# Que4. What are the . and .. folders?\n",
    "\n",
    "<h3>Ans:<br><br>\n",
    "    ( . ) => It represents the current working directory.<br><br>\n",
    "    ( .. ) => It represents the parent directory, which is one level above the current working directory.<br><br><br>\n",
    "    For e.g."
   ]
  },
  {
   "cell_type": "code",
   "execution_count": 13,
   "metadata": {},
   "outputs": [],
   "source": [
    "# Changing the CWD to the \"Python conceptual\"\n",
    "os.chdir(\"..\")"
   ]
  },
  {
   "cell_type": "code",
   "execution_count": 14,
   "metadata": {},
   "outputs": [
    {
     "data": {
      "text/plain": [
       "'C:\\\\Users\\\\vishu\\\\Desktop\\\\Python assignments basic\\\\Python conceptual'"
      ]
     },
     "execution_count": 14,
     "metadata": {},
     "output_type": "execute_result"
    }
   ],
   "source": [
    "# Now, as we can see the current directory is \"Python conceptual\"\n",
    "os.getcwd()"
   ]
  },
  {
   "cell_type": "code",
   "execution_count": 15,
   "metadata": {},
   "outputs": [
    {
     "data": {
      "text/plain": [
       "'.'"
      ]
     },
     "execution_count": 15,
     "metadata": {},
     "output_type": "execute_result"
    }
   ],
   "source": [
    "# Let's see what \".\" represents.\n",
    "\n",
    "# As we can see that when we tried to find the relative path for the PWD (Python conceptual) from the PWD(Python conceptual), it returns \".\"\n",
    "# Thus, \".\" represents the Current Working Directory\n",
    "os.path.relpath(\"Python conceptual\",\"Python conceptual\")"
   ]
  },
  {
   "cell_type": "code",
   "execution_count": 16,
   "metadata": {},
   "outputs": [
    {
     "data": {
      "text/plain": [
       "'..\\\\Python conceptual'"
      ]
     },
     "execution_count": 16,
     "metadata": {},
     "output_type": "execute_result"
    }
   ],
   "source": [
    "# Let's see what \"..\" represents.\n",
    "\n",
    "\n",
    "# As we can see that when we tried to find the relative path for the PWD (Python conceptual) from \"Python assignments basic\", which\n",
    "# is one level above the PWD, thus to represent \"Python assignments basic\" it uses \"..\"\n",
    "# Thus, \"..\" represents one level above the Current Working Directory\n",
    "os.path.relpath(\"Python conceptual\", \"Python assignments basic\")"
   ]
  },
  {
   "cell_type": "markdown",
   "metadata": {},
   "source": [
    "# Que5. In C:\\bacon\\eggs\\spam.txt, which part is the dir name, and which part is the base name?\n",
    "\n",
    "<h3>Ans:<br><br> \n",
    "    dir name(Returns the directory component of pathname) => C:\\bacon\\eggs<br><br>\n",
    "    base name(Returns the final componet fo the pathname) => spam.txt"
   ]
  },
  {
   "cell_type": "code",
   "execution_count": 17,
   "metadata": {},
   "outputs": [],
   "source": [
    "path = \"C:\\\\bacon\\\\eggs\\\\spam.txt\""
   ]
  },
  {
   "cell_type": "code",
   "execution_count": 18,
   "metadata": {},
   "outputs": [
    {
     "name": "stdout",
     "output_type": "stream",
     "text": [
      "dir name = C:\\bacon\\eggs\n"
     ]
    }
   ],
   "source": [
    "print(\"dir name =\",os.path.dirname(path))"
   ]
  },
  {
   "cell_type": "code",
   "execution_count": 19,
   "metadata": {},
   "outputs": [
    {
     "name": "stdout",
     "output_type": "stream",
     "text": [
      "base name = spam.txt\n"
     ]
    }
   ],
   "source": [
    "print(\"base name =\",os.path.basename(path))"
   ]
  },
  {
   "cell_type": "markdown",
   "metadata": {},
   "source": [
    "# Que6. What are the three “mode” arguments that can be passed to the open() function?\n",
    "\n",
    "<h3> Ans: <br><br>\n",
    "    The different modes in open() function are:<br><br>\n",
    "    1) \"r\" = Read mode: For opening the file for reading only in text mode. This is the default mode.<br><br>\n",
    "    2) \"w\" = Write mode: For writing (or truncating the file if it already exists).<br><br>\n",
    "    3) \"a\" = Append mode: For writing to the file if it's a new file, otherwise for appending to the end of file.<br><br><br>\n",
    "    \n",
    "    Apart from the above three modes, several others exists too! For e.g.\n",
    "    1) \"x\" = Create a new file and open it for writing.\n",
    "    2) \"b\" = Open the file in binary mode.\n",
    "    3) \"t\" = Open the file in text mode(by default).\n",
    "    4) \"+\" = Open a disk file for updating (reading and writing)\n",
    "    5) \"U\" = Universal newline mode.\n",
    "</h3>    \n",
    "<h3> For e.g.</h3>"
   ]
  },
  {
   "cell_type": "markdown",
   "metadata": {},
   "source": [
    "#### (mode = \"r\") or read mode"
   ]
  },
  {
   "cell_type": "code",
   "execution_count": 20,
   "metadata": {
    "scrolled": true
   },
   "outputs": [
    {
     "name": "stdout",
     "output_type": "stream",
     "text": [
      "Type of object: <class '_io.TextIOWrapper'>\n",
      "Hello all, this is a text file line 0\n",
      "Hello all, this is a text file line 1\n",
      "Hello all, this is a text file line 2\n",
      "Hello all, this is a text file line 3\n",
      "Hello all, this is a text file line 4\n",
      "\n"
     ]
    }
   ],
   "source": [
    "obj = open('Test folder\\\\test.txt', mode=\"r\")\n",
    "print(\"Type of object:\",type(obj))\n",
    "\n",
    "print(obj.read())"
   ]
  },
  {
   "cell_type": "markdown",
   "metadata": {},
   "source": [
    "#### (mode = \"w\") or write mode"
   ]
  },
  {
   "cell_type": "code",
   "execution_count": 21,
   "metadata": {},
   "outputs": [
    {
     "name": "stdout",
     "output_type": "stream",
     "text": [
      "Hello all, this is a text file line 0. Have a look!\n",
      "\n"
     ]
    }
   ],
   "source": [
    "# Case1: file doesn't exist.\n",
    "with open(\"Test folder\\\\test1.txt\", mode=\"w\") as obj:\n",
    "    for i in range(5):\n",
    "        obj.write(f\"Hello all, this is a text file line {i}. Have a look!\\n\")\n",
    "\n",
    "# We can see that the new file called test1.txt is created in the \"Test folder\"\n",
    "# Let's read test1.txt\n",
    "with open(\"Test folder\\\\test1.txt\", mode = \"r\") as obj1:\n",
    "    print(obj1.readline())\n",
    "    obj1.close()"
   ]
  },
  {
   "cell_type": "code",
   "execution_count": 22,
   "metadata": {},
   "outputs": [
    {
     "name": "stdout",
     "output_type": "stream",
     "text": [
      "The text has been overwritten!\n"
     ]
    }
   ],
   "source": [
    "# Case2: When file already exist.\n",
    "with open(\"Test folder\\\\test1.txt\", mode = \"w\") as obj2:\n",
    "    obj2.write(\"The text has been overwritten!\")\n",
    "    obj2.close()\n",
    "\n",
    "# Now let's read this file again\n",
    "with open(\"Test folder\\\\test1.txt\",mode = \"r\") as obj3:\n",
    "    print(obj3.read())\n",
    "    obj3.close()"
   ]
  },
  {
   "cell_type": "markdown",
   "metadata": {},
   "source": [
    "#### (mode = \"a\") or append mode"
   ]
  },
  {
   "cell_type": "code",
   "execution_count": 23,
   "metadata": {},
   "outputs": [
    {
     "name": "stdout",
     "output_type": "stream",
     "text": [
      "The text has been overwritten! This text is appended!\n",
      " This text is appended!\n",
      " This text is appended!\n",
      "\n"
     ]
    }
   ],
   "source": [
    "# Let's append some string to the file text1.txt\n",
    "\n",
    "with open(\"Test folder\\\\test1.txt\", mode = \"a\") as obj3:\n",
    "    for _ in range(3):\n",
    "        obj3.write(\" This text is appended!\\n\")\n",
    "    obj3.close()\n",
    "\n",
    "# Now, let's read this file.\n",
    "\n",
    "with open(\"Test folder\\\\test1.txt\", mode=\"r\") as obj4:\n",
    "    print(obj4.read())\n",
    "    obj4.close()"
   ]
  },
  {
   "cell_type": "markdown",
   "metadata": {},
   "source": [
    "# Que7. What happens if an existing file is opened in write mode?\n",
    "\n",
    "### Ans: It will overwrite all the content already in the file with the new content you pass in the write() method."
   ]
  },
  {
   "cell_type": "markdown",
   "metadata": {},
   "source": [
    "# Que8. How do you tell the difference between read() and readlines()?\n",
    "\n",
    "<h3> Ans:<br><br>\n",
    "    read() = It reads the entire file at once, and returns the entire file's content as a single string value.<br><br>\n",
    "    readlines() = Reads the file's content line by line and returns a list containing each line as a separate string entity.\n",
    "    <br><br><br>\n",
    "    For e.g."
   ]
  },
  {
   "cell_type": "code",
   "execution_count": 24,
   "metadata": {},
   "outputs": [
    {
     "name": "stdout",
     "output_type": "stream",
     "text": [
      "------------- Using read() -------------\n",
      "The text has been overwritten! This text is appended!\n",
      " This text is appended!\n",
      " This text is appended!\n",
      "\n",
      "-------------- Using readlines() ---------------\n",
      "['The text has been overwritten! This text is appended!\\n', ' This text is appended!\\n', ' This text is appended!\\n']\n"
     ]
    }
   ],
   "source": [
    "with open(\"Test folder\\\\test1.txt\") as file:\n",
    "    print(\"------------- Using read() -------------\")\n",
    "    print(file.read())\n",
    "\n",
    "with open(\"Test folder\\\\test1.txt\") as file:\n",
    "    print(\"-------------- Using readlines() ---------------\")\n",
    "    print(file.readlines())"
   ]
  },
  {
   "cell_type": "markdown",
   "metadata": {},
   "source": [
    "# Que9. What data structure does a shelf value resemble?\n",
    "\n",
    "### Ans: The shelf data structure is is a very simple data structure, which is similar to python builtins dictionary, and is used for persistent data storage when relational database solution is not required.\n",
    "\n",
    "### Similar to builtins dictionary, it also has key and values, along with various methods like items(), keys(), values(), etc. but there is a constraint on keys, i.e. the keys can only be of string type, but values can be of any type.\n",
    "\n",
    "### Below is the simple example showing the use of shelf data structure"
   ]
  },
  {
   "cell_type": "code",
   "execution_count": 25,
   "metadata": {},
   "outputs": [],
   "source": [
    "import shelve"
   ]
  },
  {
   "cell_type": "markdown",
   "metadata": {},
   "source": [
    "### First way:"
   ]
  },
  {
   "cell_type": "code",
   "execution_count": 52,
   "metadata": {},
   "outputs": [],
   "source": [
    "d = {\"name\":\"Vishal\",\n",
    "    \"age\": 24,\n",
    "    \"interest\": \"singing\",\n",
    "    \"course\":\"full-stack-DS\"}\n",
    "\n",
    "s1 = shelve.Shelf(d)"
   ]
  },
  {
   "cell_type": "code",
   "execution_count": 53,
   "metadata": {},
   "outputs": [
    {
     "data": {
      "text/plain": [
       "shelve.Shelf"
      ]
     },
     "execution_count": 53,
     "metadata": {},
     "output_type": "execute_result"
    }
   ],
   "source": [
    "type(s1)"
   ]
  },
  {
   "cell_type": "code",
   "execution_count": 80,
   "metadata": {},
   "outputs": [
    {
     "data": {
      "text/plain": [
       "(ItemsView(<shelve.Shelf object at 0x00000285E939C1F0>),\n",
       " KeysView(<shelve.Shelf object at 0x00000285E939C1F0>),\n",
       " ValuesView(<shelve.Shelf object at 0x00000285E939C1F0>))"
      ]
     },
     "execution_count": 80,
     "metadata": {},
     "output_type": "execute_result"
    }
   ],
   "source": [
    "s1.items(), s1.keys(), s1.values()"
   ]
  },
  {
   "cell_type": "markdown",
   "metadata": {},
   "source": [
    "### Second way:"
   ]
  },
  {
   "cell_type": "markdown",
   "metadata": {},
   "source": [
    "#### The easiest way to create a Shelf object is by using open() method of shelve module. Basically it returns an object of type shelve.DbfilenameShelf, which is actually a subclass of shelve.Shelf, thus we can say that it also returns a Shelf object."
   ]
  },
  {
   "cell_type": "code",
   "execution_count": 66,
   "metadata": {},
   "outputs": [
    {
     "name": "stdout",
     "output_type": "stream",
     "text": [
      "<class 'shelve.DbfilenameShelf'>\n"
     ]
    }
   ],
   "source": [
    "s = shelve.open(\"test\")\n",
    "s[\"name\"] = \"Vishal\"\n",
    "s[\"age\"] = 24\n",
    "s[\"marks\"] = 75\n",
    "\n",
    "print(type(s))"
   ]
  },
  {
   "cell_type": "code",
   "execution_count": 67,
   "metadata": {},
   "outputs": [
    {
     "data": {
      "text/plain": [
       "True"
      ]
     },
     "execution_count": 67,
     "metadata": {},
     "output_type": "execute_result"
    }
   ],
   "source": [
    "isinstance(s, shelve.Shelf)  # Thus s is a Shelf object!"
   ]
  },
  {
   "cell_type": "code",
   "execution_count": 68,
   "metadata": {},
   "outputs": [
    {
     "data": {
      "text/plain": [
       "24"
      ]
     },
     "execution_count": 68,
     "metadata": {},
     "output_type": "execute_result"
    }
   ],
   "source": [
    "# Now, let's extract the parameters from the Shelf object.\n",
    "s[\"age\"]"
   ]
  },
  {
   "cell_type": "code",
   "execution_count": 69,
   "metadata": {},
   "outputs": [
    {
     "data": {
      "text/plain": [
       "24"
      ]
     },
     "execution_count": 69,
     "metadata": {},
     "output_type": "execute_result"
    }
   ],
   "source": [
    "s.get(\"age\")"
   ]
  },
  {
   "cell_type": "code",
   "execution_count": 70,
   "metadata": {},
   "outputs": [
    {
     "data": {
      "text/plain": [
       "[('name', 'Vishal'),\n",
       " ('age', 24),\n",
       " ('interest', 'singing'),\n",
       " ('career', 'datascience'),\n",
       " ('marks', 75)]"
      ]
     },
     "execution_count": 70,
     "metadata": {},
     "output_type": "execute_result"
    }
   ],
   "source": [
    "# listing all the key-value pairs in the shelf object.\n",
    "list(s.items())"
   ]
  },
  {
   "cell_type": "code",
   "execution_count": 71,
   "metadata": {},
   "outputs": [
    {
     "data": {
      "text/plain": [
       "75"
      ]
     },
     "execution_count": 71,
     "metadata": {},
     "output_type": "execute_result"
    }
   ],
   "source": [
    "# Removing the items from the shelf object based on the keys:\n",
    "s.pop(\"marks\")"
   ]
  },
  {
   "cell_type": "code",
   "execution_count": 72,
   "metadata": {},
   "outputs": [
    {
     "data": {
      "text/plain": [
       "[('name', 'Vishal'),\n",
       " ('age', 24),\n",
       " ('interest', 'singing'),\n",
       " ('career', 'datascience')]"
      ]
     },
     "execution_count": 72,
     "metadata": {},
     "output_type": "execute_result"
    }
   ],
   "source": [
    "list(s.items())"
   ]
  },
  {
   "cell_type": "code",
   "execution_count": 73,
   "metadata": {},
   "outputs": [],
   "source": [
    "# Adding new key-value pairs to the shelf object:\n",
    "d = {\"interest\":\"singing\", \"career\":\"datascience\"}\n",
    "s.update(d)"
   ]
  },
  {
   "cell_type": "code",
   "execution_count": 74,
   "metadata": {},
   "outputs": [
    {
     "data": {
      "text/plain": [
       "[('name', 'Vishal'),\n",
       " ('age', 24),\n",
       " ('interest', 'singing'),\n",
       " ('career', 'datascience')]"
      ]
     },
     "execution_count": 74,
     "metadata": {},
     "output_type": "execute_result"
    }
   ],
   "source": [
    "list(s.items())"
   ]
  },
  {
   "cell_type": "code",
   "execution_count": null,
   "metadata": {},
   "outputs": [],
   "source": []
  }
 ],
 "metadata": {
  "kernelspec": {
   "display_name": "Python 3",
   "language": "python",
   "name": "python3"
  },
  "language_info": {
   "codemirror_mode": {
    "name": "ipython",
    "version": 3
   },
   "file_extension": ".py",
   "mimetype": "text/x-python",
   "name": "python",
   "nbconvert_exporter": "python",
   "pygments_lexer": "ipython3",
   "version": "3.8.5"
  }
 },
 "nbformat": 4,
 "nbformat_minor": 4
}
