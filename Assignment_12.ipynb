{
 "cells": [
  {
   "cell_type": "markdown",
   "metadata": {},
   "source": [
    "# Que1. In what modes should the PdfFileReader() and PdfFileWriter() File objects will be opened?\n",
    "\n",
    "### Ans: The PdfFileReader() and PdfFileWriter() file object should be opened in \"wb\" or  writ in binary mode"
   ]
  },
  {
   "cell_type": "markdown",
   "metadata": {},
   "source": []
  },
  {
   "cell_type": "markdown",
   "metadata": {},
   "source": []
  },
  {
   "cell_type": "markdown",
   "metadata": {},
   "source": [
    "# Que2. From a PdfFileReader object, how do you get a Page object for page 5?\n",
    "\n",
    "### Ans: By using .getPage() method of PdfFileReader object, as shown in the example below:"
   ]
  },
  {
   "cell_type": "code",
   "execution_count": 1,
   "metadata": {},
   "outputs": [],
   "source": [
    "from PyPDF2 import PdfFileReader"
   ]
  },
  {
   "cell_type": "code",
   "execution_count": 4,
   "metadata": {},
   "outputs": [],
   "source": [
    "pdf_reader = PdfFileReader(\"All_chapters123.pdf\")"
   ]
  },
  {
   "cell_type": "code",
   "execution_count": 5,
   "metadata": {},
   "outputs": [
    {
     "name": "stdout",
     "output_type": "stream",
     "text": [
      "<class 'PyPDF2.pdf.PageObject'>\n"
     ]
    }
   ],
   "source": [
    "page_index=4  # Since index for pages in PyPDF2 starts with 0, thus for page5, the index is 4\n",
    "page = pdf_reader.getPage(4)\n",
    "\n",
    "print(type(page))"
   ]
  },
  {
   "cell_type": "markdown",
   "metadata": {},
   "source": [
    "# Que3. What PdfFileReader variable stores the number of pages in the PDF document?\n",
    "\n",
    "### Ans: getNumPages() method if PdfFileReader object stores the number of pages in the PDF document."
   ]
  },
  {
   "cell_type": "code",
   "execution_count": 7,
   "metadata": {},
   "outputs": [
    {
     "data": {
      "text/plain": [
       "124"
      ]
     },
     "execution_count": 7,
     "metadata": {},
     "output_type": "execute_result"
    }
   ],
   "source": [
    "pdf_reader.getNumPages()"
   ]
  },
  {
   "cell_type": "markdown",
   "metadata": {},
   "source": [
    "# Que4. If a PdfFileReader object’s PDF is encrypted with the password swordfish, what must you do before you can obtain Page objects from it?\n",
    "\n",
    "### Ans: We need use the instance method called .decrypt(password = \"swordfish\") to decrypt the password. This will allow us to obtain Page  objects from the PdfFileReader object"
   ]
  },
  {
   "cell_type": "markdown",
   "metadata": {},
   "source": []
  },
  {
   "cell_type": "markdown",
   "metadata": {},
   "source": [
    "# Que5. What methods do you use to rotate a page?\n",
    "\n",
    "### Ans: We use Page object  methods like .rotateClockwise() to rotate the page clockwise or .rotateAntiClockwise() to rotate the page anticlockwise."
   ]
  },
  {
   "cell_type": "markdown",
   "metadata": {},
   "source": []
  },
  {
   "cell_type": "markdown",
   "metadata": {},
   "source": [
    "# Que6. What is the difference between a Run object and a Paragraph object?\n",
    "\n",
    "### Ans: The paragraph object is the object for each paragraph in the document. Whenever a new paragraph in the Word is created, a new Paragraph object is created for it(A new paragraph begins whenever the user presses ENTER or RETURN while typing in a Word Document.)\n",
    "\n",
    "### The run object refers to various contents of the paragraph. For any change in the style within a paragraph, a new Run object is created."
   ]
  },
  {
   "cell_type": "markdown",
   "metadata": {},
   "source": []
  },
  {
   "cell_type": "markdown",
   "metadata": {},
   "source": [
    "# Que7. How do you obtain a list of Paragraph objects for a Document object that’s stored in a variable named doc?\n",
    "\n",
    "### Ans: Use this command:   doc.paragraphs\n",
    "### For e.g."
   ]
  },
  {
   "cell_type": "code",
   "execution_count": 1,
   "metadata": {},
   "outputs": [],
   "source": [
    "import docx"
   ]
  },
  {
   "cell_type": "code",
   "execution_count": 2,
   "metadata": {},
   "outputs": [],
   "source": [
    "doc = docx.Document(\"demo.docx\")"
   ]
  },
  {
   "cell_type": "code",
   "execution_count": 3,
   "metadata": {},
   "outputs": [
    {
     "data": {
      "text/plain": [
       "[<docx.text.paragraph.Paragraph at 0x1e808895880>,\n",
       " <docx.text.paragraph.Paragraph at 0x1e808895f10>,\n",
       " <docx.text.paragraph.Paragraph at 0x1e808895d30>,\n",
       " <docx.text.paragraph.Paragraph at 0x1e808895fd0>,\n",
       " <docx.text.paragraph.Paragraph at 0x1e8088957c0>,\n",
       " <docx.text.paragraph.Paragraph at 0x1e808895130>,\n",
       " <docx.text.paragraph.Paragraph at 0x1e80766b790>]"
      ]
     },
     "execution_count": 3,
     "metadata": {},
     "output_type": "execute_result"
    }
   ],
   "source": [
    "# To get the list of Paragraph objects, use .paragraphs attribute\n",
    "doc.paragraphs"
   ]
  },
  {
   "cell_type": "markdown",
   "metadata": {},
   "source": []
  },
  {
   "cell_type": "markdown",
   "metadata": {},
   "source": [
    "# Que8. What type of object has bold, underline, italic, strike, and outline variables?\n",
    "\n",
    "### Ans: These are the Run object text attributes\n",
    "### For e.g."
   ]
  },
  {
   "cell_type": "code",
   "execution_count": 5,
   "metadata": {},
   "outputs": [],
   "source": [
    "doc.paragraphs[1].runs[0].bold = True\n",
    "doc.paragraphs[1].runs[1].underline = True\n",
    "doc.paragraphs[1].runs[2].italic = True"
   ]
  },
  {
   "cell_type": "markdown",
   "metadata": {},
   "source": []
  },
  {
   "cell_type": "markdown",
   "metadata": {},
   "source": [
    "# Que9. What is the difference between False, True, and None for the bold variable?\n",
    "\n",
    "### Ans:\n",
    "* False => Don't make the text bold.\n",
    "* True => Make the text bold, no matter what other styles are applied to the Run object\n",
    "* None => Use the default style which the Run object is set to."
   ]
  },
  {
   "cell_type": "markdown",
   "metadata": {},
   "source": []
  },
  {
   "cell_type": "markdown",
   "metadata": {},
   "source": [
    "# Que10. How do you create a Document object for a new Word document?\n",
    "\n",
    "### Ans: Use the Document class from the docx module.\n",
    "### For e.g."
   ]
  },
  {
   "cell_type": "code",
   "execution_count": 6,
   "metadata": {},
   "outputs": [],
   "source": [
    "import docx"
   ]
  },
  {
   "cell_type": "code",
   "execution_count": 7,
   "metadata": {},
   "outputs": [],
   "source": [
    "doc = docx.Document()  # This is the new Document object."
   ]
  },
  {
   "cell_type": "markdown",
   "metadata": {},
   "source": []
  },
  {
   "cell_type": "markdown",
   "metadata": {},
   "source": [
    "# Que11. How do you add a paragraph with the text &#39;Hello, there!&#39; to a Document object stored in a variable named doc?"
   ]
  },
  {
   "cell_type": "code",
   "execution_count": 8,
   "metadata": {},
   "outputs": [],
   "source": [
    "doc = docx.Document()"
   ]
  },
  {
   "cell_type": "code",
   "execution_count": 9,
   "metadata": {},
   "outputs": [
    {
     "data": {
      "text/plain": [
       "<docx.text.paragraph.Paragraph at 0x1e809c82550>"
      ]
     },
     "execution_count": 9,
     "metadata": {},
     "output_type": "execute_result"
    }
   ],
   "source": [
    "doc.add_paragraph(\"Hello there!\")"
   ]
  },
  {
   "cell_type": "code",
   "execution_count": 10,
   "metadata": {},
   "outputs": [],
   "source": [
    "doc.save(\"MyFirstDocx.docx\")"
   ]
  },
  {
   "cell_type": "markdown",
   "metadata": {},
   "source": []
  },
  {
   "cell_type": "markdown",
   "metadata": {},
   "source": [
    "# Que12. What integers represent the levels of headings available in Word documents?\n",
    "\n",
    "### Ans:\n",
    "* 0 => Title style heading (Biggest size)\n",
    "* 1 => Main heading\n",
    "* 2 => 1st subheading\n",
    "* 3 => 2nd subheading\n",
    "* 4 => 3rd and last subheading (Smallest size)"
   ]
  },
  {
   "cell_type": "code",
   "execution_count": null,
   "metadata": {},
   "outputs": [],
   "source": []
  }
 ],
 "metadata": {
  "kernelspec": {
   "display_name": "Python 3",
   "language": "python",
   "name": "python3"
  },
  "language_info": {
   "codemirror_mode": {
    "name": "ipython",
    "version": 3
   },
   "file_extension": ".py",
   "mimetype": "text/x-python",
   "name": "python",
   "nbconvert_exporter": "python",
   "pygments_lexer": "ipython3",
   "version": "3.8.5"
  }
 },
 "nbformat": 4,
 "nbformat_minor": 4
}
