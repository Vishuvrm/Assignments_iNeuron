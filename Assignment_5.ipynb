{
 "cells": [
  {
   "cell_type": "markdown",
   "metadata": {},
   "source": [
    "# Que1. What does an empty dictionary&#39;s code look like?"
   ]
  },
  {
   "cell_type": "code",
   "execution_count": 1,
   "metadata": {
    "scrolled": true
   },
   "outputs": [
    {
     "data": {
      "text/plain": [
       "dict"
      ]
     },
     "execution_count": 1,
     "metadata": {},
     "output_type": "execute_result"
    }
   ],
   "source": [
    "# The empty dictionary looks like {} or dict()\n",
    "d = {}\n",
    "type(d)"
   ]
  },
  {
   "cell_type": "markdown",
   "metadata": {},
   "source": [
    "# Que2. What is the value of a dictionary value with the key &#39;foo&#39; and the value 42?\n",
    "### Ans: 42"
   ]
  },
  {
   "cell_type": "code",
   "execution_count": 3,
   "metadata": {},
   "outputs": [
    {
     "data": {
      "text/plain": [
       "dict_values([42])"
      ]
     },
     "execution_count": 3,
     "metadata": {},
     "output_type": "execute_result"
    }
   ],
   "source": [
    "d = {\"foo\":42}\n",
    "d.values()"
   ]
  },
  {
   "cell_type": "markdown",
   "metadata": {},
   "source": [
    "# Que3. What is the most significant distinction between a dictionary and a list?"
   ]
  },
  {
   "cell_type": "code",
   "execution_count": 22,
   "metadata": {},
   "outputs": [
    {
     "name": "stdout",
     "output_type": "stream",
     "text": [
      "{'a': 1, 'b': [2, 3, 4], 'c': {1, 2, 3, 4}, 'd': {'x': 0, 'y': 1}}\n",
      "{'a': 'replaced!', 'b': 2, 'c': 3}\n",
      "unhashable type: 'list'\n",
      "replaced!\n",
      "KeyError: 0\n",
      "Iterating through dictionary\n",
      "a\n",
      "b\n",
      "c\n",
      "[1, 2, 'three', [4, 5, 6], {'a': 1, 'b': 2}, 1.23, 3, 3, 3, 3]\n",
      "1\n",
      "[1, 2, 'three']\n",
      "Iterating through list\n",
      "1\n",
      "2\n",
      "three\n"
     ]
    }
   ],
   "source": [
    "# Dictionary: \n",
    "\n",
    "# 1. The dictionary contains key:value pairs, and each key is unique. The value for each key can be anything and 2 different keys\n",
    "#    can have same values.\n",
    "d = {\"a\":1,\"b\":[2,3,4],\"c\":{1,2,3,4,4},\"d\":{\"x\":0,\"y\":1}}\n",
    "print(d)\n",
    "    \n",
    "# 2. If a key in the dictionary is repeated, then that keys in the dictionary always takes the most recent value.\n",
    "d1 = {\"a\":1, \"b\":2,\"c\":3,\"a\":\"replaced!\"} # value for key \"a\" is replaced by \"replaced!\"\n",
    "print(d1)\n",
    "\n",
    "# 3. The keys of the dictionary can't be unhashable type like list, tuple, set or dict\n",
    "try:\n",
    "    d2 = {[1,2,3]:\"list\"}\n",
    "except Exception as e:\n",
    "    print(e)\n",
    "    \n",
    "# 4. The values of the dictionary can be accessed using keys not indexes, and dictionary slicing is not possible in python.\n",
    "element1 = d1[\"a\"] # values can be accessed using the keys\n",
    "print(element1)\n",
    "\n",
    "try:\n",
    "    element1 = d1[0] # Dictionaries doesn't support indexing.\n",
    "except Exception as e:\n",
    "    print(\"KeyError:\",e)\n",
    "\n",
    "# 5. On iterating through dictionaries, we get keys, not values.\n",
    "d3 = {\"a\":0,\"b\":1,\"c\":2}\n",
    "print(\"Iterating through dictionary\")\n",
    "for i in d3:\n",
    "    print(i)\n",
    "\n",
    "#########################################################################################################################\n",
    "\n",
    "# List\n",
    "\n",
    "# 1. Unlike dictionaries, there are no key:value pairs in the list. We only have values, which can be repeated and of any type.\n",
    "l = [1,2,\"three\",[4,5,6],{\"a\":1,\"b\":2},1.23,3,3,3,3]\n",
    "print(l)\n",
    " \n",
    "# 2. The values of the list can be accessed using indexes, and list also supports slicing.\n",
    "element1 = l[0]\n",
    "print(element1)\n",
    "l1 = l[0:3]\n",
    "print(l1)\n",
    "\n",
    "# 3. On iterating through lists, we get all the values.\n",
    "print(\"Iterating through list\")\n",
    "for i in l1:\n",
    "    print(i)"
   ]
  },
  {
   "cell_type": "markdown",
   "metadata": {},
   "source": [
    "# Que4. What happens if you try to access spam[&#39;foo&#39;] if spam is {&#39;bar&#39;: 100}?"
   ]
  },
  {
   "cell_type": "code",
   "execution_count": 24,
   "metadata": {
    "scrolled": true
   },
   "outputs": [
    {
     "ename": "KeyError",
     "evalue": "'foo'",
     "output_type": "error",
     "traceback": [
      "\u001b[1;31m---------------------------------------------------------------------------\u001b[0m",
      "\u001b[1;31mKeyError\u001b[0m                                  Traceback (most recent call last)",
      "\u001b[1;32m<ipython-input-24-959cd39a5d41>\u001b[0m in \u001b[0;36m<module>\u001b[1;34m\u001b[0m\n\u001b[0;32m      1\u001b[0m \u001b[1;31m# It will show key error because the key \"foo\" is not present in spam:\u001b[0m\u001b[1;33m\u001b[0m\u001b[1;33m\u001b[0m\u001b[1;33m\u001b[0m\u001b[0m\n\u001b[0;32m      2\u001b[0m \u001b[0mspam\u001b[0m \u001b[1;33m=\u001b[0m \u001b[1;33m{\u001b[0m\u001b[1;34m\"bar\"\u001b[0m\u001b[1;33m:\u001b[0m\u001b[1;36m100\u001b[0m\u001b[1;33m}\u001b[0m\u001b[1;33m\u001b[0m\u001b[1;33m\u001b[0m\u001b[0m\n\u001b[1;32m----> 3\u001b[1;33m \u001b[0mspam\u001b[0m\u001b[1;33m[\u001b[0m\u001b[1;34m\"foo\"\u001b[0m\u001b[1;33m]\u001b[0m\u001b[1;33m\u001b[0m\u001b[1;33m\u001b[0m\u001b[0m\n\u001b[0m",
      "\u001b[1;31mKeyError\u001b[0m: 'foo'"
     ]
    }
   ],
   "source": [
    "# It will show key error because the key \"foo\" is not present in spam:\n",
    "spam = {\"bar\":100}\n",
    "spam[\"foo\"]"
   ]
  },
  {
   "cell_type": "markdown",
   "metadata": {},
   "source": [
    "# Que5. If a dictionary is stored in spam, what is the difference between the expressions &#39;cat&#39; in spam and &#39;cat&#39; in spam.keys()?"
   ]
  },
  {
   "cell_type": "code",
   "execution_count": 31,
   "metadata": {},
   "outputs": [
    {
     "name": "stdout",
     "output_type": "stream",
     "text": [
      "True\n",
      "Keys in spam: dict_keys(['cat'])\n",
      "True\n"
     ]
    }
   ],
   "source": [
    "spam = {\"cat\":\"Kitten\"}\n",
    "\n",
    "print(\"cat\" in spam) # This expression will check if \"cat\" is present in the keys of spam.\n",
    "\n",
    "print(\"Keys in spam:\",spam.keys())\n",
    "print(\"cat\" in spam.keys()) # This expression will also check if \"cat\" is present in spam.keys(), which is nothing but the \n",
    "                            # keys of spam."
   ]
  },
  {
   "cell_type": "markdown",
   "metadata": {},
   "source": [
    "# Que6: If a dictionary is stored in spam, what is the difference between the expressions &#39;cat&#39; in spam and &#39;cat&#39; in spam.values()?"
   ]
  },
  {
   "cell_type": "code",
   "execution_count": 30,
   "metadata": {},
   "outputs": [
    {
     "name": "stdout",
     "output_type": "stream",
     "text": [
      "True\n",
      "Values in spam: dict_values(['Kitten'])\n",
      "False\n"
     ]
    }
   ],
   "source": [
    "spam = {\"cat\":\"Kitten\"}\n",
    "\n",
    "print(\"cat\" in spam) # This expression will check if \"cat\" is present in the keys of spam.\n",
    "\n",
    "print(\"Values in spam:\",spam.values())\n",
    "print(\"cat\" in spam.values()) # This expression will check if \"cat\" is present in spam.values(), which is nothing but the values\n",
    "                              # in the dictionary spam. As \"cat\" is not present in spam.values(), thus it returns False."
   ]
  },
  {
   "cell_type": "markdown",
   "metadata": {},
   "source": [
    "# Que7. What is a shortcut for the following code?\n",
    "<pre>\n",
    "if &#39;color&#39; not in spam:<br>\n",
    "    spam[&#39;color&#39;] = &#39;black&#39;\n",
    "</pre>\n",
    "\n",
    "### Ans: We can simply write, spam[\"color\"] = \"black\""
   ]
  },
  {
   "cell_type": "code",
   "execution_count": 32,
   "metadata": {},
   "outputs": [
    {
     "data": {
      "text/plain": [
       "{'cat': 'kitten', 'color': 'black'}"
      ]
     },
     "execution_count": 32,
     "metadata": {},
     "output_type": "execute_result"
    }
   ],
   "source": [
    "spam = {\"cat\":\"kitten\"}\n",
    "\n",
    "spam[\"color\"] = \"black\"\n",
    "spam"
   ]
  },
  {
   "cell_type": "code",
   "execution_count": 33,
   "metadata": {},
   "outputs": [
    {
     "data": {
      "text/plain": [
       "{'cat': 'kitten', 'color': 'black'}"
      ]
     },
     "execution_count": 33,
     "metadata": {},
     "output_type": "execute_result"
    }
   ],
   "source": [
    "# This is same as:\n",
    "\n",
    "spam = {\"cat\":\"kitten\"}\n",
    "\n",
    "if \"color\" not in spam:\n",
    "    spam[\"color\"] = \"black\"\n",
    "\n",
    "spam"
   ]
  },
  {
   "cell_type": "markdown",
   "metadata": {},
   "source": [
    "# Que8. How do you &quot;pretty print&quot; dictionary values using which module and function?"
   ]
  },
  {
   "cell_type": "code",
   "execution_count": 35,
   "metadata": {},
   "outputs": [],
   "source": [
    "# We use pprint module, and the pprint module defines one class called PrettyPrinter\n",
    "import pprint\n",
    "from pprint import PrettyPrinter\n",
    "\n",
    "# The pprint module is used to pretty-print python arbitrary data structures."
   ]
  },
  {
   "cell_type": "code",
   "execution_count": 111,
   "metadata": {},
   "outputs": [
    {
     "name": "stdout",
     "output_type": "stream",
     "text": [
      "{'demography': {'name': 'Vishal', 'age': 25, 'sex': 'male'}, 'interest': ['swimming', 'singing', 'technology'], 'grades': {'10th': 84, '12th': 88, 'college': {'first-year': 6.9, 'second-year': 7.5, 'third-year': 8.8, 'fourth-year': 9.5}}, 'Married': False, 'Employeed': True}\n"
     ]
    }
   ],
   "source": [
    "# Let's see how to pretty-print dictionaries\n",
    "\n",
    "person = {\"demography\":{\"name\":\"Vishal\",\n",
    "                        \"age\":25,\n",
    "                        \"sex\":\"male\"},\n",
    "         \"interest\":[\"swimming\",\"singing\",\"technology\"],\n",
    "         \"grades\":{\"10th\":84,\n",
    "                  \"12th\":88,\n",
    "                  \"college\":{\"first-year\":6.9,\n",
    "                            \"second-year\":7.5,\n",
    "                            \"third-year\":8.8,\n",
    "                            \"fourth-year\":9.5}\n",
    "                  },\n",
    "          \"Married\":False,\n",
    "         \"Employeed\":True\n",
    "         }\n",
    "\n",
    "print(person)"
   ]
  },
  {
   "cell_type": "code",
   "execution_count": 112,
   "metadata": {},
   "outputs": [
    {
     "name": "stdout",
     "output_type": "stream",
     "text": [
      "{'Employeed': True,\n",
      " 'Married': False,\n",
      " 'demography': {'age': 25, 'name': 'Vishal', 'sex': 'male'},\n",
      " 'grades': {'10th': 84,\n",
      "            '12th': 88,\n",
      "            'college': {'first-year': 6.9,\n",
      "                        'fourth-year': 9.5,\n",
      "                        'second-year': 7.5,\n",
      "                        'third-year': 8.8}},\n",
      " 'interest': ['swimming', 'singing', 'technology']}\n"
     ]
    }
   ],
   "source": [
    "# Now, let;'s pretty-print this dictionary\n",
    "pp = pprint.PrettyPrinter(width=60, compact=True)\n",
    "pp.pprint(person)"
   ]
  },
  {
   "cell_type": "code",
   "execution_count": 113,
   "metadata": {},
   "outputs": [
    {
     "name": "stdout",
     "output_type": "stream",
     "text": [
      "{'Employeed': True,\n",
      " 'Married': False,\n",
      " 'demography': {'age': 25, 'name': 'Vishal', 'sex': 'male'},\n",
      " 'grades': {'10th': 84, '12th': 88, 'college': {...}},\n",
      " 'interest': ['swimming', 'singing', 'technology']}\n"
     ]
    }
   ],
   "source": [
    "# We can also remove the complexity of the nested dictionaries in the print statement by setting the depth parameter.\n",
    "# Suppose we want to display only till the second level, thus, we set the depth = 2\n",
    "pp = pprint.PrettyPrinter(width=60, compact=True, depth=2)\n",
    "pp.pprint(person)\n",
    "\n",
    "# We can see for the nested dictionaries beyond the depth=2 is represented by ..."
   ]
  },
  {
   "cell_type": "code",
   "execution_count": null,
   "metadata": {},
   "outputs": [],
   "source": []
  }
 ],
 "metadata": {
  "kernelspec": {
   "display_name": "Python 3",
   "language": "python",
   "name": "python3"
  },
  "language_info": {
   "codemirror_mode": {
    "name": "ipython",
    "version": 3
   },
   "file_extension": ".py",
   "mimetype": "text/x-python",
   "name": "python",
   "nbconvert_exporter": "python",
   "pygments_lexer": "ipython3",
   "version": "3.8.5"
  }
 },
 "nbformat": 4,
 "nbformat_minor": 4
}
